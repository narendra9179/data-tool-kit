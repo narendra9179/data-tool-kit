{
  "nbformat": 4,
  "nbformat_minor": 0,
  "metadata": {
    "colab": {
      "provenance": []
    },
    "kernelspec": {
      "name": "python3",
      "display_name": "Python 3"
    },
    "language_info": {
      "name": "python"
    }
  },
  "cells": [
    {
      "cell_type": "markdown",
      "source": [
        "**THEORY PART**"
      ],
      "metadata": {
        "id": "fVhcEfjULmmO"
      }
    },
    {
      "cell_type": "markdown",
      "source": [
        "Q.1 What is NumPy, and why is it widely used in Python?\n",
        "\n",
        "Ans-\n",
        "\n",
        "NumPy (short for Numerical Python) is an open-source Python library that provides support for large, multi-dimensional arrays and matrices, along with powerful mathematical functions to operate on these arrays. Its core feature is the ndarray: a fast, space-efficient, N-dimensional array object that allows for high-performance mathematical and scientific computations.\n",
        "\n",
        "\n",
        "\n",
        "NumPy is extensively used in Python for several reasons:\n",
        "\n",
        "1)Performance:\n",
        "   NumPy operates at speeds much faster than Python’s native lists as its internal operations are written in optimized C and C++ code. It can be up to 50x faster when performing large array computations.\n",
        "\n",
        "2)Efficiency:\n",
        "   NumPy arrays store data in contiguous blocks of memory, making data operations much more memory- and speed-efficient compared to standard Python lists.\n",
        "\n",
        "3)Mathematical Functions:\n",
        "   It provides a vast collection of functions for mathematical, logical, statistical, and algebraic operations—including linear algebra, Fourier transforms, and random simulations.\n",
        "\n",
        "4)Vectorization and Broadcasting:\n",
        "   NumPy supports vectorized (element-wise) operations and broadcasting, reducing the need for explicit loops and making code more concise and readable.\n",
        "\n",
        "5)Interoperability:\n",
        "   Many other scientific Python packages—such as SciPy, Pandas, scikit-learn, and Matplotlib—are built on top of NumPy, making it the backbone of the Python scientific computing ecosystem.\n",
        "\n",
        "6)Wide Application:\n",
        "   NumPy is crucial across fields like data science, machine learning, engineering, scientific research, image processing, and finance—anywhere large-scale numerical computation is required.\n",
        "\n",
        " NumPy’s combination of speed, power, and flexibility makes it an essential tool for anyone working in scientific computing or data-intensive Python applications\n",
        "\n"
      ],
      "metadata": {
        "id": "NLooGcB8pH9r"
      }
    },
    {
      "cell_type": "markdown",
      "source": [
        "Q.2) How does broadcasting work in NumPy?\n",
        "\n",
        "Ans\n",
        "\n",
        "Broadcasting in NumPy lets you perform operations (like addition, subtraction, multiplication) on arrays with different shapes, without needing to reshape them first. NumPy does this by automatically “expanding” the smaller array so the shapes line up, making the operation possible and efficient.\n",
        "\n",
        "How Does Broadcasting Work in Simple Terms?\n",
        "If the shapes of two arrays are not the same, NumPy compares their shapes from right to left.\n",
        "\n",
        "Two dimensions are “compatible” if:\n",
        "\n",
        "They are of the same shape, or\n",
        "\n",
        "One of them is 1\n",
        "\n",
        "If these rules are followed, NumPy “stretches” the smaller array across the larger one (only in memory, not by actually copying data) so they can be combined element-by-element.\n",
        "\n",
        "Compatibility Rules for Broadcasting:\n",
        "\n",
        "  Arrays are compatible if their dimensions are equal, or if one of them is 1.\n",
        "\n",
        "If not compatible, NumPy raises an error.\n",
        "\n",
        "Key Point: Broadcasting makes it easy to do math on data of different shapes, writes simpler code, and doesn’t waste memory.\n",
        "\n",
        "In summary: Broadcasting is what allows you to, for example, add a number to an entire array in one go, or combine arrays with different shapes as long as their shapes follow the rules above."
      ],
      "metadata": {
        "id": "clEm_B5epH7k"
      }
    },
    {
      "cell_type": "markdown",
      "source": [
        "Q.3) What is a Pandas DataFrame?\n",
        "\n",
        "Ans\n",
        "\n",
        "A Pandas DataFrame is a two-dimensional data structure in Python, like a table with rows and columns. You can think of it as similar to a spreadsheet or an SQL table, where each column can have a different type of data (like numbers, text, or dates), and each row represents a record or entry.\n",
        "\n",
        "Key features:\n",
        "\n",
        "  Rows and columns: Data is organized with labels for each column and row, making it easy to access and manage specific pieces of data.\n",
        "\n",
        "Flexible:\n",
        "  You can create a DataFrame from different sources—like lists, dictionaries, NumPy arrays, or files (CSV, Excel, etc.).\n",
        "\n",
        "Powerful for data analysis: It lets you quickly filter, sort, group, and change data, making it the most common tool for working with structured data in Python.\n",
        "\n",
        "In short: a Pandas DataFrame is a way to store and work with table-like data easily and efficiently in Python."
      ],
      "metadata": {
        "id": "VcCzzd5ZpH5w"
      }
    },
    {
      "cell_type": "markdown",
      "source": [
        "Q.4) Explain the use of the groupby() method in Pandas?\n",
        "\n",
        "Ans\n",
        "\n",
        "The groupby() method in Pandas is used to split a DataFrame into groups based on the values in one or more columns, so you can perform operations (like sum, mean, count) on each group separately. This makes it very useful for summarizing and analyzing data by categories—for example, getting the total sales for each product or calculating the average score for each student group.\n",
        "\n",
        "How does groupby() work?\n",
        "\n",
        "Splitting:\n",
        "  The data is divided into groups using the values from one or more columns.\n",
        "\n",
        "Applying:\n",
        " You apply a function (such as sum, mean, or count) to each group.\n",
        "\n",
        "Combining: The results are combined into a new DataFrame or Series.\n",
        "\n",
        "You can group by multiple columns and apply different functions.\n",
        "Calculate totals or averages per group.\n",
        "Get counts of occurrences within each group.\n",
        "Apply custom functions to each group."
      ],
      "metadata": {
        "id": "KfiEBHv3pH3o"
      }
    },
    {
      "cell_type": "markdown",
      "source": [
        "Q.5) Why is Seaborn preferred for statistical visualizations ?\n",
        "\n",
        "Ans\n",
        "\n",
        "Seaborn is a popular Python library for data visualization, especially when working with statistical data. It is preferred for several reasons:\n",
        "\n",
        "1. High-Level, User-Friendly API:\n",
        "\n",
        "   Seaborn provides a high-level interface, allowing users to create complex statistical plots with just a few lines of code.\n",
        "\n",
        "   Even users with minimal coding experience can quickly generate publication-quality graphics.\n",
        "\n",
        "2. Built-in Statistical Functionality:\n",
        "\n",
        "   Seaborn includes specialized plot types like box plots, violin plots, regression plots, and heatmaps, which are essential for exploring distributions, relationships, and categorical data.\n",
        "\n",
        "   Many functions automatically perform statistical estimation (such as plotting means or confidence intervals), reducing the need for manual calculations.\n",
        "\n",
        "3. Beautiful Default Styles and Themes:\n",
        "\n",
        "   Seaborn comes with several attractive built-in themes and color palettes, making it easy to produce visually appealing charts without much customization.\n",
        "\n",
        "   These styles ensure that even basic plots are clear and professional by default.\n",
        "\n",
        "4. Seamless Integration with Pandas:\n",
        "\n",
        "   The library integrates directly with Pandas DataFrames, enabling users to visualize data straight from their data structures using column names and grouping variables.\n",
        "\n",
        "   This integration makes data exploration and visualization more efficient.\n",
        "\n",
        "5. Versatility in Visualization:\n",
        "\n",
        "   Seaborn can efficiently handle and display:\n",
        "   Distributions (histograms, KDEs),Relationships (scatter, line, regression),Categorical data (bar plots, box plots, violin plots),Multiple variables (pair plots, joint plots, heatmaps)\n",
        "\n",
        "   It also allows easy mapping of additional data dimensions to visual elements like color, size, or style.\n",
        "\n",
        "6. Efficient for Exploratory Data Analysis (EDA):\n",
        "\n",
        "   Seaborn is ideal for EDA because it enables quick, informative visual summaries that reveal patterns, trends, and relationships in data.\n",
        "\n",
        "   This helps in identifying outliers, trends, and correlations efficiently, which is critical for statistical analysis and decision-making.\n",
        "\n",
        "Seaborn’s rich features, combined with its simplicity and attractive results, make it the preferred choice for statistical visualizations in Python."
      ],
      "metadata": {
        "id": "32QHSxr0pH1b"
      }
    },
    {
      "cell_type": "markdown",
      "source": [
        "Q.6) What are the differences between NumPy arrays and Python lists.\n",
        "\n",
        "Ans\n",
        "\n",
        "Difference between Numpy arrays and Python lists\n",
        "\n",
        "1)Data Type Consistency:\n",
        "  \n",
        "  NumPy arrays require all elements to be of the same data type (homogeneous), which is important for fast numerical calculations.\n",
        "\n",
        "  Python lists can store mixed data types (heterogeneous), allowing more flexibility.\n",
        "\n",
        "2)Memory Usage:\n",
        "\n",
        "  NumPy arrays store data in contiguous blocks of memory, which makes them more memory-efficient and faster to access.\n",
        "\n",
        "  Python lists store references to objects spread out in memory, leading to more memory overhead.\n",
        "\n",
        "Performance:\n",
        "\n",
        "  NumPy arrays are optimized for numerical operations and can be significantly faster than Python lists, especially for large datasets.\n",
        "\n",
        "  Python lists are slower for mathematical computations because they are more general-purpose and flexible.\n",
        "\n",
        "Mathematical Operations:\n",
        "\n",
        "  NumPy arrays support vectorized operations and broadcasting, enabling element-wise operations without explicit loops.\n",
        "\n",
        "  Python lists require explicit loops or list comprehensions for element-wise math, which is less efficient.\n",
        "\n",
        "Dimensionality:\n",
        "\n",
        "  NumPy arrays natively support multi-dimensional arrays (2D, 3D, etc.).\n",
        "\n",
        "  Python lists are primarily one-dimensional but can be nested to mimic multi-dimensional structures, though less efficiently.\n",
        "\n",
        "Resizing and Flexibility:\n",
        "\n",
        "  Python lists are dynamic and allow easy appending, removing, or resizing.\n",
        "\n",
        "  NumPy arrays have a fixed size once created; resizing requires creating a new array, which is more costly.\n",
        "\n",
        "Use Cases:\n",
        "\n",
        "  Use Python lists for general programming tasks that require flexibility and heterogeneous data.\n",
        "\n",
        "  Use NumPy arrays for scientific computing, data science, and situations that need fast and efficient numerical computation.\n",
        "\n",
        "Library Requirement:\n",
        "\n",
        " Python lists are built into Python without extra installation.\n",
        "\n",
        " NumPy arrays require installing the external NumPy library.\n",
        "\n",
        "In summary, NumPy arrays provide superior performance and memory efficiency for numerical data with consistent types, while Python lists offer greater flexibility and ease of use for general-purpose programming. Choosing between them depends on the specific needs of your task.\n",
        "\n"
      ],
      "metadata": {
        "id": "9fCfTXAApHzh"
      }
    },
    {
      "cell_type": "markdown",
      "source": [
        "Q.7) What is a heatmap, and when should it be used ?\n",
        "\n",
        "Ans\n",
        "\n",
        "A heatmap is a two-dimensional data visualization technique that uses colors to represent values in a dataset.Each cell in a grid or matrix corresponds to a data point, and the color intensity or hue indicates the magnitude\n",
        "of the value—typically,warmer colors (like reds) represent higher values, while cooler colors (like blues) represent\n",
        "lower values.\n",
        "\n",
        "Heatmaps provide an immediate visual summary that helps users quickly identify patterns, trends, or anomalies across two variables. Instead of showing raw numbers, they rely on color gradients to make complex data easier to interpret at a glance.\n",
        "\n",
        "When should a heatmap be used?\n",
        "\n",
        "-To reveal patterns or relationships within large  and complex datasets where direct comparison of raw values is difficult.\n",
        "\n",
        "-To visualize the distribution and intensity of values across two categorical or continuous variables.\n",
        "\n",
        "-In exploratory data analysis for spotting clusters, correlations, or anomalies.\n",
        "\n",
        "-In fields like data analysis, biology (e.g., gene expression), finance (e.g., stock trends), and website analytics (e.g., click density).\n",
        "\n",
        "-When you need a clear, eye-catching summary of numerical data that communicates insight visually.\n",
        "\n",
        "In summary, heatmaps are especially useful for visualizing matrices of data where color conveys the relative magnitude of values, making\n",
        "complex data more accessible and easier to interpret quickly.\n"
      ],
      "metadata": {
        "id": "-19GPrKHpHxa"
      }
    },
    {
      "cell_type": "markdown",
      "source": [
        "Q.8) A What does the term “vectorized operation” mean in NumPy ?\n",
        "\n",
        "Ans\n",
        "\n",
        "The term “vectorized operation” in NumPy refers to performing mathematical or logical operations directly on entire arrays, or large groups of data, without using explicit loops in Python code. Instead of processing elements one by one with a loop, NumPy leverages highly optimized, low-level (C-based) implementations to perform the operation element-wise across the entire array efficiently and quickly.\n",
        "\n",
        "Key Points about Vectorized Operations in NumPy:\n",
        "\n",
        "1) Efficiency:\n",
        "  \n",
        "   Because these operations use pre-compiled, optimized C code, they run much faster than equivalent Python loops.\n",
        "\n",
        "2) Simplicity:\n",
        "\n",
        "   Vectorized code is cleaner and easier to read since you do not write explicit loops; operations apply to whole arrays in a concise way.\n",
        "\n",
        "3) Element-wise Computation:\n",
        "\n",
        "   Operations like addition, multiplication, or more complex functions are applied simultaneously to each element of the array(s).\n",
        "\n",
        "4) Memory and Speed:\n",
        "\n",
        "   Vectorization avoids Python’s slower looping mechanism and is optimized for large-scale numerical data.\n",
        "\n",
        "5) Broadcasting Support:\n",
        "\n",
        "   Vectorized operations can combine arrays of different shapes by automatically expanding dimensions where needed (broadcasting).\n",
        "\n",
        "\n",
        "Vectorized operations let you operate on entire NumPy arrays at once using fast, built-in functions, making code more efficient both in terms of speed and readability compared to using explicit Python loops\n",
        "\n"
      ],
      "metadata": {
        "id": "DgE-G6x2pHvm"
      }
    },
    {
      "cell_type": "markdown",
      "source": [
        "Q.9) How does Matplotlib differ from Plotly?\n",
        "\n",
        "Ans\n",
        "\n",
        "**Matplotlib vs. Plotly**\n",
        "\n",
        "Matplotlib is a foundational Python library mainly used for creating static, publication-quality visualizations. It is widely used in academia and professional settings for creating detailed charts, figures, and graphs for reports and research papers.\n",
        "\n",
        "Plotly is designed for making interactive, dynamic visualizations that are ideal for web dashboards, presentations, and exploratory data analysis.\n",
        "\n",
        "**Main Differences**\n",
        "\n",
        "1. Interactivity\n",
        "\n",
        "   Matplotlib: Plots are static images by default (like PNG, PDF, or SVG).Offers limited interactivity.Suited for static reports and publications.\n",
        "\n",
        "   Plotly: Charts are interactive by default—users can zoom, pan, and hover to see data.Enables clickable, dynamic data exploration, and works well for web apps and dashboards.\n",
        "\n",
        "2. Ease of Use and Syntax\n",
        "\n",
        "   Matplotlib:Highly customizable, but making advanced or pretty plots often requires more lines of code and detailed configuration.Provides fine-grained control over every element in the plot, making it preferred for precise design needs.\n",
        "\n",
        "   Plotly: User-friendly, higher-level API—complex and visually appealing plots can be made with minimal code using tools like Plotly Express.Focuses on simplicity for creating attractive, interactive plots quickly.\n",
        "\n",
        "3. Aesthetics\n",
        "\n",
        "   Matplotlib: Basic styles by default; customization is possible but may need extra effort.Integrates well with scientific and academic publication standards.\n",
        "\n",
        "   Plotly:Modern, visually appealing charts out of the box.Better for creating attractive visuals with minimal styling work.\n",
        "\n",
        "4. Use in Web Applications\n",
        "\n",
        "   Matplotlib: Mainly generates images for offline or print use.Limited support for web embedding and sharing.\n",
        "\n",
        "   Plotly: Excellent support for web technologies like HTML, CSS, and JavaScript.Allows easy creation and sharing of interactive charts online and integration into dashboards.\n",
        "\n",
        "5. Performance and Scalability\n",
        "\n",
        "   Matplotlib: Handles large datasets efficiently in static form.Can be better for generating many static charts or very large visualizations for print.\n",
        "\n",
        "   Plotly: Interactive rendering in browsers may slow down with extremely large datasets.Best suited for moderate-size datasets where interactivity is a key requirement.\n",
        "\n",
        "6. Ecosystem and Compatibility\n",
        "\n",
        "   Matplotlib: Integrates seamlessly with other Python libraries such as NumPy, Pandas, and Seaborn.Stable, well-documented, and has a rich plugin ecosystem.\n",
        "\n",
        "   Plotly: Also integrates well with Pandas and supports use with Dash for building interactive web applications.\n",
        "\n",
        "Choose Matplotlib if you need static, publication-quality, highly customized visualizations for reports or academic work.\n",
        "\n",
        "Choose Plotly if you want modern, interactive plots for presentations, dashboards, or web applications that invite users to explore the data themselves."
      ],
      "metadata": {
        "id": "5FYKlktEpHvH"
      }
    },
    {
      "cell_type": "markdown",
      "source": [
        "Q.10 What is the significance of hierarchical indexing in Pandas ?\n",
        "\n",
        "Ans\n",
        "\n",
        "Hierarchical indexing (also called MultiIndexing) in Pandas is a way to have multiple levels of index labels on a DataFrame or Series instead of just one. This means you can use more than one column to define the index, creating a layered or hierarchical structure for your data.\n",
        "\n",
        "\n",
        "It enables you to organize data with multiple dimensions (like nested categories) within the 1D or 2D structures of Pandas.Instead of a single index per row, each row can have multiple index levels (like a tree or hierarchy).\n",
        "\n",
        "For example, a DataFrame could have an index with two levels: \"Region\" and \"Year\". This lets you group data first by region, then by year within each region.\n",
        "\n",
        "**Significance of Hierarchical Indexing in Pandas**\n",
        "\n",
        "1)Represents Multi-Dimensional Data:\n",
        "\n",
        "  Hierarchical indexing allows you to store and work with data having more than two dimensions inside Pandas’ normal DataFrame or Series. Each added index level corresponds to an additional data dimension.\n",
        "\n",
        "2)Efficient and Flexible Data Organization:\n",
        "\n",
        "  It organizes data in meaningful groups or nested categories, making it easier to access, slice, and analyze subsets of data at different levels. For instance, you can select all data from one region or just one specific year within that region.\n",
        "\n",
        "3)Simplifies Complex Data Queries:\n",
        "\n",
        "  You can perform queries or aggregations at any index level easily with simple code. For example, grouping by multiple variables or selecting data using combinations of index keys is straightforward.\n",
        "\n",
        "4)Supports Advanced Operations:\n",
        "\n",
        "  Functions like groupby(), pivot(), and unstack() leverage hierarchical indices to provide powerful reshaping and summarizing capabilities.\n",
        "\n",
        "5)Improves Performance:\n",
        "\n",
        "  Hierarchical indexing can be more memory and computationally efficient when handling large, structured datasets because it organizes the data compactly and allows fast lookups and slicing.\n",
        "\n",
        "Hierarchical indexing in Pandas is a powerful feature that lets you handle and analyze complex, multi-level datasets easily within the familiar DataFrame or Series format, improving both flexibility and efficiency in data manipulation and querying.\n",
        "\n"
      ],
      "metadata": {
        "id": "8Gd0JnGtpHut"
      }
    },
    {
      "cell_type": "markdown",
      "source": [
        "Q.11) What is the role of Seaborn’s pairplot() function ?\n",
        "\n",
        "Ans\n",
        "\n",
        "The pairplot() function in Seaborn is a powerful tool for visualizing the relationships between multiple numerical variables in a dataset. It creates a grid of plots, making it easy to examine the pairwise interactions and distributions of the variables, all in a single figure.\n",
        "\n",
        "**Role of apiplot()**\n",
        "\n",
        "Creates a Matrix of Plots:\n",
        "\n",
        "  Each cell in the grid shows a scatter plot for a different pair of variables, while the diagonal cells show the distribution (like a histogram or density plot) of each variable.\n",
        "\n",
        "Plots All Pairwise Relationships:\n",
        "  \n",
        "  If you have, for example, three numerical columns in a dataset, pairplot() will plot the relationship between each pair of them.\n",
        "\n",
        "Supports Grouping:\n",
        "  \n",
        "  By using the hue parameter, you can color data points by a categorical variable (such as species or gender), making group differences and patterns clear.\n",
        "\n",
        "Customizable:\n",
        "  \n",
        "  You can choose which columns to include, modify plot types, and adjust the appearance.\n",
        "\n",
        "When Should You Use pairplot():\n",
        "\n",
        " Early-stage Data Exploration: To quickly get an overview of relationships in your dataset.\n",
        "\n",
        " Identifying Patterns: To detect any patterns, linear/non-linear relationships, or group separations.\n",
        "\n",
        " Spotting Outliers: To identify data points that are far from the general pattern.\n",
        "\n",
        "Key Benefits\n",
        "\n",
        "Condenses Large Data: Offers a comprehensive visual summary in one figure.\n",
        "\n",
        "Reveals Hidden Relationships: Makes it easier to compare relationships without writing multiple plotting commands.\n",
        "\n",
        "Aids Data Preparation: Helps inform which variables are highly correlated or might need preprocessing.\n",
        "\n",
        "In summary:\n",
        "Seaborn’s pairplot() function is a quick, effective way to visualize and understand the interactions and distributions of variables in a dataset—making it invaluable for data exploration and analysis."
      ],
      "metadata": {
        "id": "m5ZA8t16pHuD"
      }
    },
    {
      "cell_type": "markdown",
      "source": [
        "Q.12) What is the purpose of the describe() function in Pandas.\n",
        "\n",
        "Ans\n",
        "\n",
        "The describe() function in Pandas is used to generate a quick statistical summary of the data in a DataFrame or Series.\n",
        "\n",
        "What does describe() show for numerical data:-\n",
        "\n",
        "- Count: Number of non-missing entries\n",
        "- Mean: Average value\n",
        "- Standard Deviation (std): Measure of spread or variability\n",
        "- Minimum (min) and Maximum (max): Smallest and largest values\n",
        "- Percentiles: Values at the 25th, 50th (median), and 75th percentiles by default (custom percentiles can be specified)\n",
        "\n",
        "What does it show for categorical or other types of data:-\n",
        "\n",
        "- Number of non-missing entries (count)\n",
        "- Number of unique values\n",
        "- Most frequent value (top)\n",
        "- Frequency of the most frequent value (freq)\n",
        "\n",
        "Key Points about describe():\n",
        "\n",
        "- By default, it summarizes only numerical columns.\n",
        "\n",
        "- Using parameters like include='all', you can generate statistics for categorical and other data types as well.\n",
        "\n",
        "- It excludes missing (NaN) values in its calculations.\n",
        "\n",
        "- It gives a quick overview useful for exploratory data analysis (EDA).\n",
        "\n",
        "The describe() function in Pandas quickly summarizes key statistical metrics of your dataset, helping you to understand its overall structure, quality, and distribution efficiently during data exploration and analysis. This makes it an essential method for getting initial insights about your data."
      ],
      "metadata": {
        "id": "vO7VfkmrpHnv"
      }
    },
    {
      "cell_type": "markdown",
      "source": [
        "Q.13) Why is handling missing data important in Pandas ?\n",
        "\n",
        "Ans\n",
        "\n",
        "Handling missing data is important in Pandas because missing values can significantly impact the quality, accuracy, and reliability of data analysis and machine learning models. Here are the key reasons why handling missing data is crucial:\n",
        "\n",
        "Data Quality and Accuracy:\n",
        "\n",
        "  Missing values can skew statistical calculations, summary metrics, and model results, leading to inaccurate conclusions. Properly handling missing data ensures the results reflect the true characteristics of the dataset.\n",
        "\n",
        "Avoiding Bias:\n",
        "  \n",
        " If data is missing in a systematic way, it introduces bias, which can mislead the analysis. Handling missing data correctly helps maintain the representativeness of the dataset.\n",
        "\n",
        "Compatibility with Algorithms:\n",
        "\n",
        " Many statistical and machine learning algorithms require complete data without missing entries. Missing values can cause errors or incorrect model behavior if not addressed.\n",
        "\n",
        "Preserve Dataset Usability:\n",
        "\n",
        " Handling missing data—through techniques like imputing missing values or removing incomplete rows/columns—helps keep the dataset clean and usable for further analysis.\n",
        "\n",
        "Improved Model Performance:\n",
        "\n",
        " By addressing missing data effectively, models trained on the dataset can perform better and produce more reliable predictions.\n",
        "\n",
        "Interpretability and Insight:\n",
        "\n",
        " Missing data handling enables clearer insights and prevents misinterpretation that could result from unhandled gaps in the data.\n",
        "\n",
        "Pandas provides built-in tools such as isnull(), dropna(), and fillna() to detect, remove, or fill missing values, making it easier to prepare data for accurate and trustworthy analysis.\n",
        "\n",
        "In summary, handling missing data in Pandas is essential to ensure that data analysis and machine learning outcomes are accurate, unbiased, and reliable, preventing errors and enhancing the quality of insights derived from your data."
      ],
      "metadata": {
        "id": "70VrmGIDHsS_"
      }
    },
    {
      "cell_type": "markdown",
      "source": [
        "Q.14 What are the benefits of using Plotly for data visualization ?\n",
        "\n",
        "Ans-\n",
        "\n",
        "Plotly is a widely used, open-source Python library known for creating interactive and visually appealing data visualizations. Here are the main benefits of using Plotly:\n",
        "\n",
        "1. Interactivity:\n",
        "\n",
        "   Plots are interactive by default: users can zoom, pan, hover for tooltips, and select specific data regions.\n",
        "\n",
        "   Interactive controls such as sliders, dropdowns, and buttons can be added for dynamic data exploration, making it easier to uncover patterns and details that may be missed in static charts.\n",
        "\n",
        "2. Ease of Use:\n",
        "\n",
        "   Plotly, especially with its high-level Plotly Express interface, lets users create complex charts with minimal code.\n",
        "\n",
        "   The syntax is intuitive and beginner-friendly, allowing rapid prototyping and quick data exploration.\n",
        "\n",
        "3. Wide Range of Chart Types:\n",
        "\n",
        "   Plotly supports a vast array of visualizations, including line, bar, scatter, heatmap, box plots, 3D charts, geospatial maps, and more.\n",
        "\n",
        "   This versatility covers both basic and advanced analytical needs, from simple trends to complex relationships and geographic data.\n",
        "\n",
        "4. Customization and Flexibility:\n",
        "\n",
        "   Users have granular control over chart design, colors, labels, axes, and annotations.\n",
        "\n",
        "   Visualizations can be tailored for specific audiences or use cases, making it suitable for publication-quality outputs without complex code.\n",
        "\n",
        "5. Integration and Compatibility:\n",
        "\n",
        "   Integrates seamlessly with the Python data science ecosystem, including Pandas DataFrames and Jupyter Notebooks.\n",
        "\n",
        "   Visuals can be easily exported as standalone HTML files, static images, or embedded into dashboards and web applications.\n",
        "\n",
        "6. Collaboration and Sharing:\n",
        "\n",
        "   Plotly makes it simple to share interactive charts online or privately, facilitating teamwork and presentation.\n",
        "\n",
        "   Its cloud and web capabilities enable easy distribution and embedding of visualizations in reports or web pages.\n",
        "\n",
        "7. Modern Aesthetics:\n",
        "\n",
        "   By default, Plotly charts are visually attractive and clear, reducing the need for extensive styling tweaks.\n",
        "\n",
        "   The visuals are often ready for presentations or publications right out of the box.\n",
        "\n",
        "8. Advanced Features:\n",
        "\n",
        "   Supports advanced data exploration capabilities, such as animation, 3D visualization, and the ability to handle large and complex datasets efficiently.\n",
        "\n",
        "In summary, Plotly stands out for its interactivity, flexibility, and range of charting options, making it an excellent choice for modern data analysis and presentation tasks\n",
        "\n"
      ],
      "metadata": {
        "id": "fKYn6cTKHsQJ"
      }
    },
    {
      "cell_type": "markdown",
      "source": [
        "Q.15) How does NumPy handle multidimensional arrays ?\n",
        "\n",
        "Ans-\n",
        "\n",
        "NumPy is built to work efficiently with multidimensional arrays, known as ndarrays (N-dimensional arrays). These arrays allow you to store and manipulate data with two or more dimensions, which is especially useful for scientific and numerical computing.\n",
        "\n",
        "Key Aspects of Multidimensional Arrays in NumPy\n",
        "\n",
        "- Creation:\n",
        "   \n",
        "   You can create arrays of any dimension in NumPy by passing nested Python lists to np.array(). Each level of nesting adds a new dimension (e.g., 2D for tables, 3D for blocks, etc.).\n",
        "\n",
        "- Homogeneous Data:\n",
        "\n",
        "  All data in a NumPy array must be of the same type.\n",
        "\n",
        "- Shape and Size:\n",
        "\n",
        "  Each array has a shape attribute—a tuple indicating the size in each dimension (e.g., (3, 4) for a 3-row, 4-column array). You can easily get or change the shape using the .shape attribute or the .reshape() method.\n",
        "\n",
        "- Efficient Storage & Access:\n",
        "\n",
        "  Elements are stored in contiguous blocks of memory, making access (even in multiple dimensions) very fast. You can access, modify, and slice data across any number of dimensions with simple Python syntax.\n",
        "\n",
        "**Working With Multidimensional Arrays**\n",
        "\n",
        "- Indexing and Slicing:\n",
        "   \n",
        "   You can access elements by specifying their indices in each dimension:\n",
        "\n",
        "   Slicing (using :) works for all dimensions and returns views, not copies—meaning changes apply to the original data.\n",
        "\n",
        "- Mathematical Operations:\n",
        "\n",
        "   Operations (addition, multiplication, etc.) are performed element-wise across all dimensions. NumPy uses \"vectorized operations,\" applying calculations to all elements at once without explicit loops.\n",
        "\n",
        "- Broadcasting:\n",
        "\n",
        "  Smaller arrays or scalars can be combined with larger multidimensional arrays through \"broadcasting,\" which automatically stretches one dimension to match another for calculations.\n",
        "\n",
        "- Reshaping:\n",
        "\n",
        "  Arrays can be reshaped into different dimensions, as long as the total number of elements stays the same:\n",
        "\n",
        "\n",
        "- Axis Operations:\n",
        "\n",
        "  Many functions (like sum, mean) operate along specific axes. For example, arr.sum(axis=0) sums over rows (down columns), while arr.sum(axis=1) sums over columns (across rows).\n",
        "\n",
        "NumPy efficiently manages multidimensional data by providing fast, memory-efficient storage and powerful tools for indexing, slicing, reshaping, and performing vectorized mathematical operations on arrays of any dimension. This makes it the backbone for scientific and data analysis tasks in Python."
      ],
      "metadata": {
        "id": "imLNLQx8HsOU"
      }
    },
    {
      "cell_type": "markdown",
      "source": [
        "Q.16 What is the role of Bokeh in data visualization ?\n",
        "\n",
        "Ans-\n",
        "\n",
        "Bokeh is a powerful Python library designed for creating interactive and high-performance data visualizations in modern web browsers. Its main role in data visualization is to enable users—data scientists, analysts, and developers—to build elegant, versatile, and interactive charts, dashboards, and data applications with relatively simple Python code.\n",
        "\n",
        "Roles and Features of Bokeh in Data Visualization:\n",
        "\n",
        "- Interactive Visualizations:\n",
        "  \n",
        "  Bokeh specializes in creating plots that users can interact with directly in a web browser—such as zooming, panning, hovering to see tooltips, and clicking to trigger events. This interactivity helps users explore data more deeply and intuitively.\n",
        "\n",
        "- High Performance with Large or Streaming Data:\n",
        "\n",
        "  It is optimized to handle large datasets smoothly, maintaining responsiveness and speed even when visualizing millions of points or streaming real-time data.\n",
        "\n",
        "- Integration with Web Technologies:\n",
        "\n",
        "  Bokeh renders graphics using HTML, JavaScript, and modern web standards through its BokehJS library, meaning visuals can be embedded in web pages, Jupyter notebooks, or web applications (e.g., Flask or Django apps).\n",
        "\n",
        "- Flexibility and Customization:\n",
        "\n",
        "  Offers multiple interface levels—from high-level plotting functions to low-level, detailed control over every visual element—and also allows embedding custom JavaScript for specialized cases.\n",
        "\n",
        "- Seamless Compatibility with Python DataEcosystem:\n",
        "\n",
        "  Works well with common Python data tools like NumPy, Pandas, and Jupyter notebooks, allowing easy transition from data manipulation to visualization.\n",
        "\n",
        "- Dashboard and Application Building:\n",
        "\n",
        "  Supports creating complete interactive dashboards with widgets and linked plots, useful for presenting complex data and enabling \"what-if\" analyses dynamically.\n",
        "\n",
        "- Open Source and Community Supported:\n",
        "\n",
        "  Bokeh is free, open-source, and supported by a vibrant community, making it accessible and continually improving.\n",
        "\n",
        "Bokeh plays a critical role in Python data visualization by making it easy to produce interactive, web-ready, and high-performance visualizations. It bridges the gap between simple static plots and complex custom web visualizations, focusing on usability, flexibility, and scalability—ideal for interactive data exploration, reporting, and building rich data applications.\n",
        "\n",
        "This makes Bokeh especially valuable when you want more engagement and dynamism in your visualized data compared to static charts from libraries like Matplotlib or Seaborn, while avoiding the complexity of full JavaScript frameworks.\n",
        "\n"
      ],
      "metadata": {
        "id": "uB7RyySlHsMR"
      }
    },
    {
      "cell_type": "markdown",
      "source": [
        "Q.17) Explain the difference between apply() and map() in Pandas ?\n",
        "\n",
        "Ans-\n",
        "\n",
        "map() and apply() are both functions in Pandas used for transforming data, but they differ in where and how they work.\n",
        "\n",
        "**map() in Pandas**\n",
        "\n",
        "Used only on Series (one column of a DataFrame).\n",
        "\n",
        "Applies a function, dictionary, or Series to each element in the Series independently.\n",
        "\n",
        "Commonly used for simple, element-wise transformations (like value replacement, re-mapping, or data conversions).\n",
        "\n",
        "**apply() in Pandas**\n",
        "\n",
        "Can be used on both Series and DataFrames.\n",
        "\n",
        "On a Series: applies a function to each element, similar to map().\n",
        "\n",
        "On a DataFrame: applies a function across an entire row or column, allowing for more complex transformations or aggregations.\n",
        "\n",
        "Useful for operations that require row-wise or column-wise logic, or when the function needs access to multiple values at once.\n",
        "\n",
        "\n",
        "**Key Differences Between apply() and map()**\n",
        "\n",
        "Scope:\n",
        "\n",
        "  map() works only with Series.\n",
        "\n",
        "  apply() works with both Series and DataFrames.\n",
        "\n",
        "Function Argument:\n",
        "\n",
        "  map() can take a function, dictionary, or another Series for mapping values.\n",
        "\n",
        "  apply() always requires a function (callable).\n",
        "\n",
        "Complexity:\n",
        "\n",
        "  map() is for simple, element-wise mapping or transformation.\n",
        "\n",
        "  apply() is more flexible and can handle more complex row or column-wise operations, including aggregations.\n",
        "\n",
        "Return Type:\n",
        "\n",
        "  map() returns a Series.\n",
        "\n",
        "  apply() can return a Series, DataFrame, or scalar value, depending on the function and axis used.\n",
        "\n",
        "In short, use map() for straightforward value mapping in a Series, and use apply() when you need more flexibility or need to work across rows or columns in a DataFrame.\n",
        "\n"
      ],
      "metadata": {
        "id": "WAjkCpruHsKS"
      }
    },
    {
      "cell_type": "markdown",
      "source": [
        "Q.18) What are some advanced features of NumPy ?\n",
        "\n",
        "Ans-\n",
        "\n",
        "Some advanced features of NumPy that enhance its power and flexibility for scientific computing and data analysis are:\n",
        "\n",
        "- Broadcasting:\n",
        "  \n",
        "  Allows arithmetic operations on arrays of different shapes without explicit looping or copying data, by “stretching” the smaller array conceptually to match the larger one efficiently.\n",
        "\n",
        "- Universal Functions (ufuncs):\n",
        "\n",
        "  NumPy provides fast, vectorized functions that operate element-wise on arrays, implemented in optimized C code. You can even create custom ufuncs for your own element-wise operations.\n",
        "\n",
        "- Structured and Record Arrays:\n",
        "  \n",
        "  Enables creation of arrays with complex data types (like fields or records), allowing you to store heterogeneous data (similar to database tables) while retaining efficiency.\n",
        "\n",
        "- Advanced Indexing and Slicing:\n",
        "  \n",
        "  You can index arrays with arrays or boolean masks, allowing complex data selection and manipulation beyond simple slices.\n",
        "\n",
        "- Memory Views and Strides:\n",
        "\n",
        "  NumPy arrays use views to access data without copying, using strides to navigate memory efficiently. This helps in reshaping, transposing, and slicing without extra memory overhead.\n",
        "\n",
        "- Linear Algebra Functions:\n",
        "  \n",
        "  Provides a rich set of matrix operations including dot products, matrix inversion, determinants, eigenvalues, and singular value decomposition.\n",
        "\n",
        "- Random Number Generation:\n",
        "  \n",
        "  The numpy.random module offers various distributions and random sampling methods useful for simulations and probabilistic modeling.\n",
        "\n",
        "\n",
        "- In-Place Operations and Memory Optimization:\n",
        "  \n",
        "  Operations that modify arrays without creating copies to save memory and improve speed.\n",
        "  \n",
        "These advanced features make NumPy not just a tool for basic array manipulation but a comprehensive, high-performance numerical computing library essential for sophisticated scientific, engineering, and machine learning tasks\n"
      ],
      "metadata": {
        "id": "jIO_02R1HsIX"
      }
    },
    {
      "cell_type": "markdown",
      "source": [
        "Q.19) How does Pandas simplify time series analysis ?\n",
        "\n",
        "Ans-\n",
        "\n",
        "Pandas is a powerful Python library that greatly simplifies time series analysis through intuitive data structures and specialized functions. Here’s how Pandas streamlines this process:\n",
        "\n",
        "1. Datetime Handling and Indexing:\n",
        "\n",
        "   Easily convert strings or numbers to Pandas’ datetime objects with pd.to_datetime() for powerful time-aware manipulation.\n",
        "\n",
        "   Set a datetime column as an index (DatetimeIndex) to unlock date-based slicing, selection, and filtering, such as retrieving data between specific dates or months.\n",
        "\n",
        "2. Time-Based Indexing and Slicing:\n",
        "\n",
        "   Directly access or slice data by specifying date ranges, regardless of the data’s frequency.\n",
        "\n",
        "   Use partial string indexing: e.g., extract all records from \"2022-01\" for January 2022 data.\n",
        "\n",
        "3. Resampling and Aggregation:\n",
        "\n",
        "   Change the frequency of your time series using the .resample() method (e.g., from daily to weekly or monthly), combined with aggregation functions like mean, sum, max, etc.\n",
        "\n",
        "   Useful for summarizing, smoothing, or spotting long-term patterns in noisy data.\n",
        "\n",
        "4. Rolling and Moving Window Calculations:\n",
        "\n",
        "   Compute rolling statistics (mean, sum, standard deviation) using the .rolling() method, which helps in identifying trends and smoothing out short-term fluctuations.\n",
        "\n",
        "   Support for exponentially-weighted windows for advanced smoothing.\n",
        "\n",
        "5. Built-in Date and Time Properties:\n",
        "\n",
        "   Extract date components such as year, month, day, hour, and weekday via the .dt accessor. This allows for detailed feature engineering and more granular time-based analysis.\n",
        "\n",
        "   Convenient shifting and lagging of data for comparing time points or creating lagged features for modeling.\n",
        "\n",
        "6. Time Zone Awareness and Conversion:\n",
        "\n",
        "   Pandas supports time zone localization and conversion, making it easy to handle global time series data accurately.\n",
        "\n",
        "7. Visualization Integration:\n",
        "\n",
        "   Pandas integrates smoothly with plotting libraries like Matplotlib, facilitating immediate visualization of time series data with date-aware axes and labels.\n",
        "\n",
        "8. Flexible Frequency and Date Range Generation:\n",
        "\n",
        "   Quickly generate sequences of dates with customizable frequency using pd.date_range() for building time grids or simulating time-based datasets.\n",
        "\n",
        "9. Other Time Series Tools:\n",
        "\n",
        "   Resilient to irregular time intervals, missing data, and supports combining multiple time series with alignment on dates.\n",
        "\n",
        "   Group by date parts (e.g., group by month, year) for easy period-based analysis.\n",
        "\n",
        "Pandas’ specialized time series features—ranging from datetime handling and indexing to resampling, rolling statistics, and time zone support—make analyzing, visualizing, and modeling time-dependent data both efficient and intuitive\n"
      ],
      "metadata": {
        "id": "BlTaWQAMHsGn"
      }
    },
    {
      "cell_type": "markdown",
      "source": [
        "Q.20) What is the role of a pivot table in Pandas ?\n",
        "\n",
        "Ans-\n",
        "\n",
        "A pivot table is a data summarization tool used to reorganize and analyze complex datasets. It enables you to group, aggregate, and compare data across multiple dimensions, transforming long or detailed data into a compact, easy-to-read format. Pivot tables are widely used in spreadsheet applications (like Excel) and data analysis libraries such as Pandas.\n",
        "\n",
        "**Key Features of a Pivot Table**\n",
        "\n",
        "- Grouping:\n",
        "\n",
        "  Organizes data based on one or more categories (such as dates, regions, or product types).\n",
        "\n",
        "- Aggregation:\n",
        "\n",
        "  Applies summary functions—like sum, average, count, or max—to grouped data, making it easier to spot trends or totals.\n",
        "\n",
        "- Cross-tabulation:\n",
        "\n",
        "  Lays out categories both as rows and columns, creating a matrix for granular comparison.\n",
        "\n",
        "- Flexibility:\n",
        "\n",
        "  Allows changing the arrangement and level of detail without altering the original data.\n",
        "\n",
        "**The Role of a Pivot Table in Pandas**\n",
        "\n",
        "Pandas, a popular Python library for data analysis, provides robust tools for working with pivot tables via the pivot_table() function.\n",
        "\n",
        "How Pivot Tables Simplify Analysis in Pandas\n",
        "\n",
        "- Efficient Summarization:\n",
        "\n",
        "  Instantly condenses large datasets into summary tables based on categories of your choice, reducing the need for manual calculations.\n",
        "\n",
        "- Easy Aggregation:\n",
        "\n",
        "  Lets you aggregate data using a wide range of functions (sum, mean, count, etc.) on one or more columns.\n",
        "\n",
        "- Multi-level Grouping (MultiIndex):\n",
        "\n",
        "  Supports hierarchical grouping both on rows and columns, facilitating sophisticated data breakdowns.\n",
        "\n",
        "- Handles Missing Data:\n",
        "\n",
        "  You can specify how to manage empty cells (e.g., leave them blank, fill with zero, etc.).\n",
        "\n",
        "- Data Reshaping:\n",
        "\n",
        "  Transforms long (row-oriented) data into wide (column-oriented) format or vice versa, making trends and comparisons more visible and actionable.\n",
        "\n",
        "In essence: A pivot table in Pandas is a powerful tool for data summarization, enabling efficient, flexible, and insightful analysis of complex datasets."
      ],
      "metadata": {
        "id": "sUE7TG2a_Rbc"
      }
    },
    {
      "cell_type": "markdown",
      "source": [
        "Q.21) Why is NumPy’s array slicing faster than Python’s list slicing ?\n",
        "\n",
        "Ans-\n",
        "\n",
        "NumPy array slicing is significantly faster than Python list slicing due to differences in their underlying data structures and memory management:\n",
        "\n",
        "1. Contiguous Memory Allocation:-\n",
        "\n",
        "  NumPy arrays store data in a single, contiguous block of memory, enabling rapid, sequential access by the CPU. This design matches how modern processors work, allowing efficient cache usage and minimizing memory lookup times.\n",
        "\n",
        "  Python lists are collections of pointers (references) to objects scattered throughout memory, resulting in slower access and inefficient memory usage.\n",
        "\n",
        "2. Data Homogeneity:\n",
        "\n",
        "   NumPy arrays are homogeneous: all elements share the same fixed data type. This consistency allows direct indexing and fast mathematical operations, since the data type and size of each element are known in advance.\n",
        "\n",
        "   Python lists can hold elements of any type, so every access requires extra type checking and indirect reference, slowing down operations.\n",
        "\n",
        "3. No-Copy (View) Slicing:\n",
        "\n",
        "   NumPy slicing usually creates a view of the original data rather than a copy. A view is a new array object referencing the same underlying memory buffer, so slicing is almost instantaneous and extremely memory-efficient. Any modification in the view affects the original array.\n",
        "\n",
        "   Python list slicing always creates a new list by copying all the objects referenced in the specified range. This means allocation of new memory and copying every element pointer, which is slower and can be memory-intensive for large lists.\n",
        "\n",
        "4. Low-Level Optimizations:\n",
        "\n",
        "   NumPy operations, including slicing, are implemented in highly optimized C code. This removes the high-level Python interpreter overhead, accelerating routine array operations several-fold.\n",
        "\n",
        "5. Stride-Based Indexing:\n",
        "\n",
        "   NumPy leverages stride metadata to compute memory offsets efficiently. Slicing just changes the starting pointer and stride in the view object—no copying is needed. Python lists, lacking fixed stride or contiguity, must iterate and copy each item to assemble the subset.\n",
        "\n",
        "Summary:\n",
        "NumPy’s slicing is faster because it offers view-based, no-copy, contiguous memory access with efficient, low-level, homogeneous data management—while Python lists require per-element reference copying and lack such memory optimizations\n",
        "\n"
      ],
      "metadata": {
        "id": "mi3HJT9U_RXx"
      }
    },
    {
      "cell_type": "markdown",
      "source": [
        "Q.22) What are some common use cases for Seaborn?\n",
        "\n",
        "Ans-\n",
        "\n",
        "Seaborn is a popular Python library built on top of Matplotlib, designed for making statistical graphics more attractive and informative. It is widely used by data scientists and analysts for a range of visualization tasks:\n",
        "\n",
        "1. Exploratory Data Analysis (EDA):\n",
        "\n",
        "   Quickly create clear, complex plots for exploring data relationships, distributions, and trends.\n",
        "\n",
        "   Examples: scatter plots, pair plots, and histograms to inspect variables and detect correlations or outliers.\n",
        "\n",
        "2. Statistical Analysis:\n",
        "\n",
        "   Visualize statistical relationships and trends, including correlations, regression lines, and confidence intervals.\n",
        "\n",
        "   Use regression plots (regplot/lmplot), joint distributions (jointplot), and correlation heatmaps.\n",
        "\n",
        "3. Distribution Visualization:\n",
        "\n",
        "   Understand and compare the distribution of numeric data with:\n",
        "\n",
        "   Histograms (histplot, displot)\n",
        "\n",
        "   Kernel density plots (kdeplot)\n",
        "\n",
        "   Violin plots and boxplots (for combination of numeric and categorical data).\n",
        "\n",
        "4. Categorical Data Visualization:\n",
        "\n",
        "   Analyze and compare summary statistics across groups using:\n",
        "\n",
        "   Bar plots, count plots, and point plots\n",
        "\n",
        "   Boxplots and violin plots for medians and variations per category\n",
        "\n",
        "   Swarm plots and strip plots for displaying all data points and distributions.\n",
        "\n",
        "5. Time Series Visualization:\n",
        "\n",
        "   Line plots and area plots to observe how statistical variables change over time.\n",
        "\n",
        "   Heatmaps to visualize data patterns over time or across time intervals.\n",
        "\n",
        "6. Relationship Analysis:\n",
        "\n",
        "   Scatter plots and pair plots to reveal relationships and potential patterns between variables.\n",
        "\n",
        "   Pair plots for visualizing pairwise relationships across an entire dataset.\n",
        "\n",
        "7. Faceting and Multi-Variable Visualization:\n",
        "\n",
        "   Facet grids and pair grids allow the visualization of subsets of data across levels of categorical variables using panels or facets, aiding in multi-dimensional analysis.\n",
        "\n",
        "   Supports breaking down complex data into easy-to-compare visual panels.\n",
        "\n",
        "8. Machine Learning Evaluation:\n",
        "\n",
        "   Visualize model performance (e.g., confusion matrices, ROC curves)\n",
        "\n",
        "   Feature importance plots and visual summaries of modeling steps.\n",
        "\n",
        "9. Publication-Quality and Custom Theming:\n",
        "\n",
        "   Easily apply professional themes, color palettes, and context settings for high-quality figures suitable for presentations and publications.\n",
        "\n",
        "10. Correlation and Clustering:\n",
        "\n",
        "   Correlation heatmaps to visually assess pairwise relationships.\n",
        "\n",
        "   Clustermaps to reveal data groupings and clusters within a dataset.\n",
        "\n",
        "Examples of Seaborn Plot Types:\n",
        "\n",
        "Scatterplot : Visualize correlation between two variables\n",
        "\n",
        "Histplot/KDEplot : Show distribution of a variable\n",
        "\n",
        "Boxplot/Violinplot :\tCompare distribution across categories\n",
        "\n",
        "Heatmap\t:Display matrix-like data or correlations\n",
        "\n",
        "Barplot :Compare values across groups or categories\n",
        "\n",
        "Pairplot : Explore all variable relationships\n",
        "\n",
        "FacetGrid :\tMulti-panel view by category/dimension\n",
        "\n",
        "In summary: Seaborn is commonly used for robust exploratory data analysis, statistical plotting, time series analysis, relationship mapping, and producing publication-ready charts—making it a foundation for data-driven Python workflows"
      ],
      "metadata": {
        "id": "B8FIWxRO_RSv"
      }
    },
    {
      "cell_type": "code",
      "source": [],
      "metadata": {
        "id": "cPvZstFnKpaK"
      },
      "execution_count": null,
      "outputs": []
    },
    {
      "cell_type": "markdown",
      "source": [
        "**PRACTICLE PART**"
      ],
      "metadata": {
        "id": "FbsbYuhwL5Rb"
      }
    },
    {
      "cell_type": "markdown",
      "source": [
        "Q.1) How do you create a 2D NumPy array and calculate the sum of each row ?"
      ],
      "metadata": {
        "id": "FDWXBSLiL8iB"
      }
    },
    {
      "cell_type": "code",
      "source": [
        "# Ans-\n",
        "\n",
        "import numpy as np\n",
        "\n",
        "# creating a 2d numpy array\n",
        "arr=np.array([[1,2,3],[4,5,6]])\n",
        "\n",
        "# calculating sum row-wise\n",
        "print(arr.sum(axis=1))\n"
      ],
      "metadata": {
        "colab": {
          "base_uri": "https://localhost:8080/"
        },
        "id": "ikgpHqVnMPFK",
        "outputId": "d7436ee2-fef5-4e0e-ccc3-8e6c82eaa529"
      },
      "execution_count": null,
      "outputs": [
        {
          "output_type": "stream",
          "name": "stdout",
          "text": [
            "[ 6 15]\n"
          ]
        }
      ]
    },
    {
      "cell_type": "markdown",
      "source": [
        "Q.2) Write a Pandas script to find the mean of a specific column in a DataFrame."
      ],
      "metadata": {
        "id": "lvDc3Jc-OUMI"
      }
    },
    {
      "cell_type": "code",
      "source": [
        "# Ans\n",
        "\n",
        "import pandas as pd\n",
        "\n",
        "# Sample dictionary to create the DataFrame\n",
        "data = {\n",
        "    'hindi_score': [80, 85, 90, 95],\n",
        "    'english_score': [78, 82, 88, 91]\n",
        "}\n",
        "\n",
        "# Creating the DataFrame\n",
        "df = pd.DataFrame(data)\n",
        "\n",
        "# Calculating the mean of the 'hindi_score' column\n",
        "print(df['hindi_score'].mean())"
      ],
      "metadata": {
        "colab": {
          "base_uri": "https://localhost:8080/"
        },
        "id": "jH5UIwLUP7b5",
        "outputId": "219e46b5-c27a-4cc0-c79c-e5d9a9819f36"
      },
      "execution_count": 12,
      "outputs": [
        {
          "output_type": "stream",
          "name": "stdout",
          "text": [
            "87.5\n"
          ]
        }
      ]
    },
    {
      "cell_type": "markdown",
      "source": [
        "Q.3) Create a scatter plot using Matplotlib ?\n"
      ],
      "metadata": {
        "id": "nHw2AUKgL8-Y"
      }
    },
    {
      "cell_type": "code",
      "source": [
        "#Ans\n",
        "\n",
        "import matplotlib.pyplot as plt\n",
        "\n",
        "x = [1, 2, 3, 4, 5]\n",
        "y = [2, 4, 1, 3, 7]\n",
        "\n",
        "# Create scatter plot\n",
        "Sp = plt.scatter(x, y)\n",
        "\n",
        "# Display the plot — no need to pass anything to plt.show()\n",
        "plt.show()"
      ],
      "metadata": {
        "colab": {
          "base_uri": "https://localhost:8080/",
          "height": 430
        },
        "id": "kyD-SOh2Ri1p",
        "outputId": "63bd3b3a-9262-41cb-c3b3-26091a626742"
      },
      "execution_count": 17,
      "outputs": [
        {
          "output_type": "display_data",
          "data": {
            "text/plain": [
              "<Figure size 640x480 with 1 Axes>"
            ],
            "image/png": "[encoded data removed]"
          },
          "metadata": {}
        }
      ]
    },
    {
      "cell_type": "markdown",
      "source": [
        "Q.4) How do you calculate the correlation matrix using Seaborn and visualize it with a heatmap ?"
      ],
      "metadata": {
        "id": "mdeAoes0L9a-"
      }
    },
    {
      "cell_type": "code",
      "source": [
        "#Ans\n",
        "\n",
        "import seaborn as sns\n",
        "\n",
        "\n",
        "data = pd.DataFrame({\n",
        "    'A': [1, 2, 3, 4],\n",
        "    'B': [4, 3, 2, 1],\n",
        "    'C': [5, 6, 7, 8]\n",
        "})\n",
        "\n",
        "# calculating correlation matrix\n",
        "\n",
        "corr_matrix= data.corr()\n",
        "\n",
        "# vsualising it using heatmap\n",
        "\n",
        "sns.heatmap(corr_matrix)\n",
        "\n",
        "# seaborn used matplotlib function to show\n",
        "plt.show()"
      ],
      "metadata": {
        "colab": {
          "base_uri": "https://localhost:8080/",
          "height": 435
        },
        "id": "XStJ2JoSWwD5",
        "outputId": "6ff6338e-e32c-4288-99b5-e65c9a8b9020"
      },
      "execution_count": 25,
      "outputs": [
        {
          "output_type": "display_data",
          "data": {
            "text/plain": [
              "<Figure size 640x480 with 2 Axes>"
            ],
            "image/png": "[encoded data removed]"
          },
          "metadata": {}
        }
      ]
    },
    {
      "cell_type": "markdown",
      "source": [
        "Q.5) Generate a bar plot using Plotly."
      ],
      "metadata": {
        "id": "KVNE5ZXUL-SO"
      }
    },
    {
      "cell_type": "code",
      "source": [
        "#Ans\n",
        "\n",
        "import plotly.express as px\n",
        "\n",
        "data = pd.DataFrame({\n",
        "    'Category': ['A', 'B', 'C', 'D'],\n",
        "    'Values': [23, 45, 12, 67]\n",
        "})\n",
        "\n",
        "# Create bar plot\n",
        "fig = px.bar(data, x='Category', y='Values', title='Simple Bar Plot')\n",
        "fig.show()"
      ],
      "metadata": {
        "colab": {
          "base_uri": "https://localhost:8080/",
          "height": 542
        },
        "id": "gKcauLkZbR1v",
        "outputId": "cb621c7b-35be-4f49-be46-78392349885f"
      },
      "execution_count": 26,
      "outputs": [
        {
          "output_type": "display_data",
          "data": {
            "text/html": [
              "<html>\n",
              "<head><meta charset=\"utf-8\" /></head>\n",
              "<body>\n",
              "    <div>            <script src=\"https://cdnjs.cloudflare.com/ajax/libs/mathjax/2.7.5/MathJax.js?config=TeX-AMS-MML_SVG\"></script><script type=\"text/javascript\">if (window.MathJax && window.MathJax.Hub && window.MathJax.Hub.Config) {window.MathJax.Hub.Config({SVG: {font: \"STIX-Web\"}});}</script>                <script type=\"text/javascript\">window.PlotlyConfig = {MathJaxConfig: 'local'};</script>\n",
              "        <script charset=\"utf-8\" src=\"https://cdn.plot.ly/plotly-2.35.2.min.js\"></script>                <div id=\"af2abe2b-a540-440a-8788-6dcecaa6e759\" class=\"plotly-graph-div\" style=\"height:525px; width:100%;\"></div>            <script type=\"text/javascript\">                                    window.PLOTLYENV=window.PLOTLYENV || {};                                    if (document.getElementById(\"af2abe2b-a540-440a-8788-6dcecaa6e759\")) {                    Plotly.newPlot(                        \"af2abe2b-a540-440a-8788-6dcecaa6e759\",                        [{\"alignmentgroup\":\"True\",\"hovertemplate\":\"Category=%{x}\\u003cbr\\u003eValues=%{y}\\u003cextra\\u003e\\u003c\\u002fextra\\u003e\",\"legendgroup\":\"\",\"marker\":{\"color\":\"#636efa\",\"pattern\":{\"shape\":\"\"}},\"name\":\"\",\"offsetgroup\":\"\",\"orientation\":\"v\",\"showlegend\":false,\"textposition\":\"auto\",\"x\":[\"A\",\"B\",\"C\",\"D\"],\"xaxis\":\"x\",\"y\":[23,45,12,67],\"yaxis\":\"y\",\"type\":\"bar\"}],                        {\"template\":{\"data\":{\"histogram2dcontour\":[{\"type\":\"histogram2dcontour\",\"colorbar\":{\"outlinewidth\":0,\"ticks\":\"\"},\"colorscale\":[[0.0,\"#0d0887\"],[0.1111111111111111,\"#46039f\"],[0.2222222222222222,\"#7201a8\"],[0.3333333333333333,\"#9c179e\"],[0.4444444444444444,\"#bd3786\"],[0.5555555555555556,\"#d8576b\"],[0.6666666666666666,\"#ed7953\"],[0.7777777777777778,\"#fb9f3a\"],[0.8888888888888888,\"#fdca26\"],[1.0,\"#f0f921\"]]}],\"choropleth\":[{\"type\":\"choropleth\",\"colorbar\":{\"outlinewidth\":0,\"ticks\":\"\"}}],\"histogram2d\":[{\"type\":\"histogram2d\",\"colorbar\":{\"outlinewidth\":0,\"ticks\":\"\"},\"colorscale\":[[0.0,\"#0d0887\"],[0.1111111111111111,\"#46039f\"],[0.2222222222222222,\"#7201a8\"],[0.3333333333333333,\"#9c179e\"],[0.4444444444444444,\"#bd3786\"],[0.5555555555555556,\"#d8576b\"],[0.6666666666666666,\"#ed7953\"],[0.7777777777777778,\"#fb9f3a\"],[0.8888888888888888,\"#fdca26\"],[1.0,\"#f0f921\"]]}],\"heatmap\":[{\"type\":\"heatmap\",\"colorbar\":{\"outlinewidth\":0,\"ticks\":\"\"},\"colorscale\":[[0.0,\"#0d0887\"],[0.1111111111111111,\"#46039f\"],[0.2222222222222222,\"#7201a8\"],[0.3333333333333333,\"#9c179e\"],[0.4444444444444444,\"#bd3786\"],[0.5555555555555556,\"#d8576b\"],[0.6666666666666666,\"#ed7953\"],[0.7777777777777778,\"#fb9f3a\"],[0.8888888888888888,\"#fdca26\"],[1.0,\"#f0f921\"]]}],\"heatmapgl\":[{\"type\":\"heatmapgl\",\"colorbar\":{\"outlinewidth\":0,\"ticks\":\"\"},\"colorscale\":[[0.0,\"#0d0887\"],[0.1111111111111111,\"#46039f\"],[0.2222222222222222,\"#7201a8\"],[0.3333333333333333,\"#9c179e\"],[0.4444444444444444,\"#bd3786\"],[0.5555555555555556,\"#d8576b\"],[0.6666666666666666,\"#ed7953\"],[0.7777777777777778,\"#fb9f3a\"],[0.8888888888888888,\"#fdca26\"],[1.0,\"#f0f921\"]]}],\"contourcarpet\":[{\"type\":\"contourcarpet\",\"colorbar\":{\"outlinewidth\":0,\"ticks\":\"\"}}],\"contour\":[{\"type\":\"contour\",\"colorbar\":{\"outlinewidth\":0,\"ticks\":\"\"},\"colorscale\":[[0.0,\"#0d0887\"],[0.1111111111111111,\"#46039f\"],[0.2222222222222222,\"#7201a8\"],[0.3333333333333333,\"#9c179e\"],[0.4444444444444444,\"#bd3786\"],[0.5555555555555556,\"#d8576b\"],[0.6666666666666666,\"#ed7953\"],[0.7777777777777778,\"#fb9f3a\"],[0.8888888888888888,\"#fdca26\"],[1.0,\"#f0f921\"]]}],\"surface\":[{\"type\":\"surface\",\"colorbar\":{\"outlinewidth\":0,\"ticks\":\"\"},\"colorscale\":[[0.0,\"#0d0887\"],[0.1111111111111111,\"#46039f\"],[0.2222222222222222,\"#7201a8\"],[0.3333333333333333,\"#9c179e\"],[0.4444444444444444,\"#bd3786\"],[0.5555555555555556,\"#d8576b\"],[0.6666666666666666,\"#ed7953\"],[0.7777777777777778,\"#fb9f3a\"],[0.8888888888888888,\"#fdca26\"],[1.0,\"#f0f921\"]]}],\"mesh3d\":[{\"type\":\"mesh3d\",\"colorbar\":{\"outlinewidth\":0,\"ticks\":\"\"}}],\"scatter\":[{\"fillpattern\":{\"fillmode\":\"overlay\",\"size\":10,\"solidity\":0.2},\"type\":\"scatter\"}],\"parcoords\":[{\"type\":\"parcoords\",\"line\":{\"colorbar\":{\"outlinewidth\":0,\"ticks\":\"\"}}}],\"scatterpolargl\":[{\"type\":\"scatterpolargl\",\"marker\":{\"colorbar\":{\"outlinewidth\":0,\"ticks\":\"\"}}}],\"bar\":[{\"error_x\":{\"color\":\"#2a3f5f\"},\"error_y\":{\"color\":\"#2a3f5f\"},\"marker\":{\"line\":{\"color\":\"#E5ECF6\",\"width\":0.5},\"pattern\":{\"fillmode\":\"overlay\",\"size\":10,\"solidity\":0.2}},\"type\":\"bar\"}],\"scattergeo\":[{\"type\":\"scattergeo\",\"marker\":{\"colorbar\":{\"outlinewidth\":0,\"ticks\":\"\"}}}],\"scatterpolar\":[{\"type\":\"scatterpolar\",\"marker\":{\"colorbar\":{\"outlinewidth\":0,\"ticks\":\"\"}}}],\"histogram\":[{\"marker\":{\"pattern\":{\"fillmode\":\"overlay\",\"size\":10,\"solidity\":0.2}},\"type\":\"histogram\"}],\"scattergl\":[{\"type\":\"scattergl\",\"marker\":{\"colorbar\":{\"outlinewidth\":0,\"ticks\":\"\"}}}],\"scatter3d\":[{\"type\":\"scatter3d\",\"line\":{\"colorbar\":{\"outlinewidth\":0,\"ticks\":\"\"}},\"marker\":{\"colorbar\":{\"outlinewidth\":0,\"ticks\":\"\"}}}],\"scattermapbox\":[{\"type\":\"scattermapbox\",\"marker\":{\"colorbar\":{\"outlinewidth\":0,\"ticks\":\"\"}}}],\"scatterternary\":[{\"type\":\"scatterternary\",\"marker\":{\"colorbar\":{\"outlinewidth\":0,\"ticks\":\"\"}}}],\"scattercarpet\":[{\"type\":\"scattercarpet\",\"marker\":{\"colorbar\":{\"outlinewidth\":0,\"ticks\":\"\"}}}],\"carpet\":[{\"aaxis\":{\"endlinecolor\":\"#2a3f5f\",\"gridcolor\":\"white\",\"linecolor\":\"white\",\"minorgridcolor\":\"white\",\"startlinecolor\":\"#2a3f5f\"},\"baxis\":{\"endlinecolor\":\"#2a3f5f\",\"gridcolor\":\"white\",\"linecolor\":\"white\",\"minorgridcolor\":\"white\",\"startlinecolor\":\"#2a3f5f\"},\"type\":\"carpet\"}],\"table\":[{\"cells\":{\"fill\":{\"color\":\"#EBF0F8\"},\"line\":{\"color\":\"white\"}},\"header\":{\"fill\":{\"color\":\"#C8D4E3\"},\"line\":{\"color\":\"white\"}},\"type\":\"table\"}],\"barpolar\":[{\"marker\":{\"line\":{\"color\":\"#E5ECF6\",\"width\":0.5},\"pattern\":{\"fillmode\":\"overlay\",\"size\":10,\"solidity\":0.2}},\"type\":\"barpolar\"}],\"pie\":[{\"automargin\":true,\"type\":\"pie\"}]},\"layout\":{\"autotypenumbers\":\"strict\",\"colorway\":[\"#636efa\",\"#EF553B\",\"#00cc96\",\"#ab63fa\",\"#FFA15A\",\"#19d3f3\",\"#FF6692\",\"#B6E880\",\"#FF97FF\",\"#FECB52\"],\"font\":{\"color\":\"#2a3f5f\"},\"hovermode\":\"closest\",\"hoverlabel\":{\"align\":\"left\"},\"paper_bgcolor\":\"white\",\"plot_bgcolor\":\"#E5ECF6\",\"polar\":{\"bgcolor\":\"#E5ECF6\",\"angularaxis\":{\"gridcolor\":\"white\",\"linecolor\":\"white\",\"ticks\":\"\"},\"radialaxis\":{\"gridcolor\":\"white\",\"linecolor\":\"white\",\"ticks\":\"\"}},\"ternary\":{\"bgcolor\":\"#E5ECF6\",\"aaxis\":{\"gridcolor\":\"white\",\"linecolor\":\"white\",\"ticks\":\"\"},\"baxis\":{\"gridcolor\":\"white\",\"linecolor\":\"white\",\"ticks\":\"\"},\"caxis\":{\"gridcolor\":\"white\",\"linecolor\":\"white\",\"ticks\":\"\"}},\"coloraxis\":{\"colorbar\":{\"outlinewidth\":0,\"ticks\":\"\"}},\"colorscale\":{\"sequential\":[[0.0,\"#0d0887\"],[0.1111111111111111,\"#46039f\"],[0.2222222222222222,\"#7201a8\"],[0.3333333333333333,\"#9c179e\"],[0.4444444444444444,\"#bd3786\"],[0.5555555555555556,\"#d8576b\"],[0.6666666666666666,\"#ed7953\"],[0.7777777777777778,\"#fb9f3a\"],[0.8888888888888888,\"#fdca26\"],[1.0,\"#f0f921\"]],\"sequentialminus\":[[0.0,\"#0d0887\"],[0.1111111111111111,\"#46039f\"],[0.2222222222222222,\"#7201a8\"],[0.3333333333333333,\"#9c179e\"],[0.4444444444444444,\"#bd3786\"],[0.5555555555555556,\"#d8576b\"],[0.6666666666666666,\"#ed7953\"],[0.7777777777777778,\"#fb9f3a\"],[0.8888888888888888,\"#fdca26\"],[1.0,\"#f0f921\"]],\"diverging\":[[0,\"#8e0152\"],[0.1,\"#c51b7d\"],[0.2,\"#de77ae\"],[0.3,\"#f1b6da\"],[0.4,\"#fde0ef\"],[0.5,\"#f7f7f7\"],[0.6,\"#e6f5d0\"],[0.7,\"#b8e186\"],[0.8,\"#7fbc41\"],[0.9,\"#4d9221\"],[1,\"#276419\"]]},\"xaxis\":{\"gridcolor\":\"white\",\"linecolor\":\"white\",\"ticks\":\"\",\"title\":{\"standoff\":15},\"zerolinecolor\":\"white\",\"automargin\":true,\"zerolinewidth\":2},\"yaxis\":{\"gridcolor\":\"white\",\"linecolor\":\"white\",\"ticks\":\"\",\"title\":{\"standoff\":15},\"zerolinecolor\":\"white\",\"automargin\":true,\"zerolinewidth\":2},\"scene\":{\"xaxis\":{\"backgroundcolor\":\"#E5ECF6\",\"gridcolor\":\"white\",\"linecolor\":\"white\",\"showbackground\":true,\"ticks\":\"\",\"zerolinecolor\":\"white\",\"gridwidth\":2},\"yaxis\":{\"backgroundcolor\":\"#E5ECF6\",\"gridcolor\":\"white\",\"linecolor\":\"white\",\"showbackground\":true,\"ticks\":\"\",\"zerolinecolor\":\"white\",\"gridwidth\":2},\"zaxis\":{\"backgroundcolor\":\"#E5ECF6\",\"gridcolor\":\"white\",\"linecolor\":\"white\",\"showbackground\":true,\"ticks\":\"\",\"zerolinecolor\":\"white\",\"gridwidth\":2}},\"shapedefaults\":{\"line\":{\"color\":\"#2a3f5f\"}},\"annotationdefaults\":{\"arrowcolor\":\"#2a3f5f\",\"arrowhead\":0,\"arrowwidth\":1},\"geo\":{\"bgcolor\":\"white\",\"landcolor\":\"#E5ECF6\",\"subunitcolor\":\"white\",\"showland\":true,\"showlakes\":true,\"lakecolor\":\"white\"},\"title\":{\"x\":0.05},\"mapbox\":{\"style\":\"light\"}}},\"xaxis\":{\"anchor\":\"y\",\"domain\":[0.0,1.0],\"title\":{\"text\":\"Category\"}},\"yaxis\":{\"anchor\":\"x\",\"domain\":[0.0,1.0],\"title\":{\"text\":\"Values\"}},\"legend\":{\"tracegroupgap\":0},\"title\":{\"text\":\"Simple Bar Plot\"},\"barmode\":\"relative\"},                        {\"responsive\": true}                    ).then(function(){\n",
              "                            \n",
              "var gd = document.getElementById('af2abe2b-a540-440a-8788-6dcecaa6e759');\n",
              "var x = new MutationObserver(function (mutations, observer) {{\n",
              "        var display = window.getComputedStyle(gd).display;\n",
              "        if (!display || display === 'none') {{\n",
              "            console.log([gd, 'removed!']);\n",
              "            Plotly.purge(gd);\n",
              "            observer.disconnect();\n",
              "        }}\n",
              "}});\n",
              "\n",
              "// Listen for the removal of the full notebook cells\n",
              "var notebookContainer = gd.closest('#notebook-container');\n",
              "if (notebookContainer) {{\n",
              "    x.observe(notebookContainer, {childList: true});\n",
              "}}\n",
              "\n",
              "// Listen for the clearing of the current output cell\n",
              "var outputEl = gd.closest('.output');\n",
              "if (outputEl) {{\n",
              "    x.observe(outputEl, {childList: true});\n",
              "}}\n",
              "\n",
              "                        })                };                            </script>        </div>\n",
              "</body>\n",
              "</html>"
            ]
          },
          "metadata": {}
        }
      ]
    },
    {
      "cell_type": "markdown",
      "source": [
        "Q.6) Create a DataFrame and add a new column based on an existing column."
      ],
      "metadata": {
        "id": "EaEwUwgXL961"
      }
    },
    {
      "cell_type": "code",
      "source": [
        "import pandas as pd\n",
        "\n",
        "df=pd.DataFrame({'A':[1,2,3],'B':[4,5,6]})\n",
        "\n",
        "# Add a new column 'C'\n",
        "df['C']=df['A']+df['B']\n",
        "df"
      ],
      "metadata": {
        "colab": {
          "base_uri": "https://localhost:8080/",
          "height": 143
        },
        "id": "6Ld_iWvAdc5F",
        "outputId": "407b326f-8ccf-45c2-96aa-7b16ee6eb1d8"
      },
      "execution_count": 34,
      "outputs": [
        {
          "output_type": "execute_result",
          "data": {
            "text/plain": [
              "   A  B  C\n",
              "0  1  4  5\n",
              "1  2  5  7\n",
              "2  3  6  9"
            ],
            "text/html": [
              "\n",
              "  <div id=\"df-2489cde4-d682-490e-b73f-8402b9697f37\" class=\"colab-df-container\">\n",
              "    <div>\n",
              "<style scoped>\n",
              "    .dataframe tbody tr th:only-of-type {\n",
              "        vertical-align: middle;\n",
              "    }\n",
              "\n",
              "    .dataframe tbody tr th {\n",
              "        vertical-align: top;\n",
              "    }\n",
              "\n",
              "    .dataframe thead th {\n",
              "        text-align: right;\n",
              "    }\n",
              "</style>\n",
              "<table border=\"1\" class=\"dataframe\">\n",
              "  <thead>\n",
              "    <tr style=\"text-align: right;\">\n",
              "      <th></th>\n",
              "      <th>A</th>\n",
              "      <th>B</th>\n",
              "      <th>C</th>\n",
              "    </tr>\n",
              "  </thead>\n",
              "  <tbody>\n",
              "    <tr>\n",
              "      <th>0</th>\n",
              "      <td>1</td>\n",
              "      <td>4</td>\n",
              "      <td>5</td>\n",
              "    </tr>\n",
              "    <tr>\n",
              "      <th>1</th>\n",
              "      <td>2</td>\n",
              "      <td>5</td>\n",
              "      <td>7</td>\n",
              "    </tr>\n",
              "    <tr>\n",
              "      <th>2</th>\n",
              "      <td>3</td>\n",
              "      <td>6</td>\n",
              "      <td>9</td>\n",
              "    </tr>\n",
              "  </tbody>\n",
              "</table>\n",
              "</div>\n",
              "    <div class=\"colab-df-buttons\">\n",
              "\n",
              "  <div class=\"colab-df-container\">\n",
              "    <button class=\"colab-df-convert\" onclick=\"convertToInteractive('df-2489cde4-d682-490e-b73f-8402b9697f37')\"\n",
              "            title=\"Convert this dataframe to an interactive table.\"\n",
              "            style=\"display:none;\">\n",
              "\n",
              "  <svg xmlns=\"http://www.w3.org/2000/svg\" height=\"24px\" viewBox=\"0 -960 960 960\">\n",
              "    <path d=\"M120-120v-720h720v720H120Zm60-500h600v-160H180v160Zm220 220h160v-160H400v160Zm0 220h160v-160H400v160ZM180-400h160v-160H180v160Zm440 0h160v-160H620v160ZM180-180h160v-160H180v160Zm440 0h160v-160H620v160Z\"/>\n",
              "  </svg>\n",
              "    </button>\n",
              "\n",
              "  <style>\n",
              "    .colab-df-container {\n",
              "      display:flex;\n",
              "      gap: 12px;\n",
              "    }\n",
              "\n",
              "    .colab-df-convert {\n",
              "      background-color: #E8F0FE;\n",
              "      border: none;\n",
              "      border-radius: 50%;\n",
              "      cursor: pointer;\n",
              "      display: none;\n",
              "      fill: #1967D2;\n",
              "      height: 32px;\n",
              "      padding: 0 0 0 0;\n",
              "      width: 32px;\n",
              "    }\n",
              "\n",
              "    .colab-df-convert:hover {\n",
              "      background-color: #E2EBFA;\n",
              "      box-shadow: 0px 1px 2px rgba(60, 64, 67, 0.3), 0px 1px 3px 1px rgba(60, 64, 67, 0.15);\n",
              "      fill: #174EA6;\n",
              "    }\n",
              "\n",
              "    .colab-df-buttons div {\n",
              "      margin-bottom: 4px;\n",
              "    }\n",
              "\n",
              "    [theme=dark] .colab-df-convert {\n",
              "      background-color: #3B4455;\n",
              "      fill: #D2E3FC;\n",
              "    }\n",
              "\n",
              "    [theme=dark] .colab-df-convert:hover {\n",
              "      background-color: #434B5C;\n",
              "      box-shadow: 0px 1px 3px 1px rgba(0, 0, 0, 0.15);\n",
              "      filter: drop-shadow(0px 1px 2px rgba(0, 0, 0, 0.3));\n",
              "      fill: #FFFFFF;\n",
              "    }\n",
              "  </style>\n",
              "\n",
              "    <script>\n",
              "      const buttonEl =\n",
              "        document.querySelector('#df-2489cde4-d682-490e-b73f-8402b9697f37 button.colab-df-convert');\n",
              "      buttonEl.style.display =\n",
              "        google.colab.kernel.accessAllowed ? 'block' : 'none';\n",
              "\n",
              "      async function convertToInteractive(key) {\n",
              "        const element = document.querySelector('#df-2489cde4-d682-490e-b73f-8402b9697f37');\n",
              "        const dataTable =\n",
              "          await google.colab.kernel.invokeFunction('convertToInteractive',\n",
              "                                                    [key], {});\n",
              "        if (!dataTable) return;\n",
              "\n",
              "        const docLinkHtml = 'Like what you see? Visit the ' +\n",
              "          '<a target=\"_blank\" href=https://colab.research.google.com/notebooks/data_table.ipynb>data table notebook</a>'\n",
              "          + ' to learn more about interactive tables.';\n",
              "        element.innerHTML = '';\n",
              "        dataTable['output_type'] = 'display_data';\n",
              "        await google.colab.output.renderOutput(dataTable, element);\n",
              "        const docLink = document.createElement('div');\n",
              "        docLink.innerHTML = docLinkHtml;\n",
              "        element.appendChild(docLink);\n",
              "      }\n",
              "    </script>\n",
              "  </div>\n",
              "\n",
              "\n",
              "    <div id=\"df-2649db9e-c02d-4f9a-ab29-98999857f0dd\">\n",
              "      <button class=\"colab-df-quickchart\" onclick=\"quickchart('df-2649db9e-c02d-4f9a-ab29-98999857f0dd')\"\n",
              "                title=\"Suggest charts\"\n",
              "                style=\"display:none;\">\n",
              "\n",
              "<svg xmlns=\"http://www.w3.org/2000/svg\" height=\"24px\"viewBox=\"0 0 24 24\"\n",
              "     width=\"24px\">\n",
              "    <g>\n",
              "        <path d=\"M19 3H5c-1.1 0-2 .9-2 2v14c0 1.1.9 2 2 2h14c1.1 0 2-.9 2-2V5c0-1.1-.9-2-2-2zM9 17H7v-7h2v7zm4 0h-2V7h2v10zm4 0h-2v-4h2v4z\"/>\n",
              "    </g>\n",
              "</svg>\n",
              "      </button>\n",
              "\n",
              "<style>\n",
              "  .colab-df-quickchart {\n",
              "      --bg-color: #E8F0FE;\n",
              "      --fill-color: #1967D2;\n",
              "      --hover-bg-color: #E2EBFA;\n",
              "      --hover-fill-color: #174EA6;\n",
              "      --disabled-fill-color: #AAA;\n",
              "      --disabled-bg-color: #DDD;\n",
              "  }\n",
              "\n",
              "  [theme=dark] .colab-df-quickchart {\n",
              "      --bg-color: #3B4455;\n",
              "      --fill-color: #D2E3FC;\n",
              "      --hover-bg-color: #434B5C;\n",
              "      --hover-fill-color: #FFFFFF;\n",
              "      --disabled-bg-color: #3B4455;\n",
              "      --disabled-fill-color: #666;\n",
              "  }\n",
              "\n",
              "  .colab-df-quickchart {\n",
              "    background-color: var(--bg-color);\n",
              "    border: none;\n",
              "    border-radius: 50%;\n",
              "    cursor: pointer;\n",
              "    display: none;\n",
              "    fill: var(--fill-color);\n",
              "    height: 32px;\n",
              "    padding: 0;\n",
              "    width: 32px;\n",
              "  }\n",
              "\n",
              "  .colab-df-quickchart:hover {\n",
              "    background-color: var(--hover-bg-color);\n",
              "    box-shadow: 0 1px 2px rgba(60, 64, 67, 0.3), 0 1px 3px 1px rgba(60, 64, 67, 0.15);\n",
              "    fill: var(--button-hover-fill-color);\n",
              "  }\n",
              "\n",
              "  .colab-df-quickchart-complete:disabled,\n",
              "  .colab-df-quickchart-complete:disabled:hover {\n",
              "    background-color: var(--disabled-bg-color);\n",
              "    fill: var(--disabled-fill-color);\n",
              "    box-shadow: none;\n",
              "  }\n",
              "\n",
              "  .colab-df-spinner {\n",
              "    border: 2px solid var(--fill-color);\n",
              "    border-color: transparent;\n",
              "    border-bottom-color: var(--fill-color);\n",
              "    animation:\n",
              "      spin 1s steps(1) infinite;\n",
              "  }\n",
              "\n",
              "  @keyframes spin {\n",
              "    0% {\n",
              "      border-color: transparent;\n",
              "      border-bottom-color: var(--fill-color);\n",
              "      border-left-color: var(--fill-color);\n",
              "    }\n",
              "    20% {\n",
              "      border-color: transparent;\n",
              "      border-left-color: var(--fill-color);\n",
              "      border-top-color: var(--fill-color);\n",
              "    }\n",
              "    30% {\n",
              "      border-color: transparent;\n",
              "      border-left-color: var(--fill-color);\n",
              "      border-top-color: var(--fill-color);\n",
              "      border-right-color: var(--fill-color);\n",
              "    }\n",
              "    40% {\n",
              "      border-color: transparent;\n",
              "      border-right-color: var(--fill-color);\n",
              "      border-top-color: var(--fill-color);\n",
              "    }\n",
              "    60% {\n",
              "      border-color: transparent;\n",
              "      border-right-color: var(--fill-color);\n",
              "    }\n",
              "    80% {\n",
              "      border-color: transparent;\n",
              "      border-right-color: var(--fill-color);\n",
              "      border-bottom-color: var(--fill-color);\n",
              "    }\n",
              "    90% {\n",
              "      border-color: transparent;\n",
              "      border-bottom-color: var(--fill-color);\n",
              "    }\n",
              "  }\n",
              "</style>\n",
              "\n",
              "      <script>\n",
              "        async function quickchart(key) {\n",
              "          const quickchartButtonEl =\n",
              "            document.querySelector('#' + key + ' button');\n",
              "          quickchartButtonEl.disabled = true;  // To prevent multiple clicks.\n",
              "          quickchartButtonEl.classList.add('colab-df-spinner');\n",
              "          try {\n",
              "            const charts = await google.colab.kernel.invokeFunction(\n",
              "                'suggestCharts', [key], {});\n",
              "          } catch (error) {\n",
              "            console.error('Error during call to suggestCharts:', error);\n",
              "          }\n",
              "          quickchartButtonEl.classList.remove('colab-df-spinner');\n",
              "          quickchartButtonEl.classList.add('colab-df-quickchart-complete');\n",
              "        }\n",
              "        (() => {\n",
              "          let quickchartButtonEl =\n",
              "            document.querySelector('#df-2649db9e-c02d-4f9a-ab29-98999857f0dd button');\n",
              "          quickchartButtonEl.style.display =\n",
              "            google.colab.kernel.accessAllowed ? 'block' : 'none';\n",
              "        })();\n",
              "      </script>\n",
              "    </div>\n",
              "\n",
              "  <div id=\"id_16811e54-733c-4432-83ba-6b5db7455c42\">\n",
              "    <style>\n",
              "      .colab-df-generate {\n",
              "        background-color: #E8F0FE;\n",
              "        border: none;\n",
              "        border-radius: 50%;\n",
              "        cursor: pointer;\n",
              "        display: none;\n",
              "        fill: #1967D2;\n",
              "        height: 32px;\n",
              "        padding: 0 0 0 0;\n",
              "        width: 32px;\n",
              "      }\n",
              "\n",
              "      .colab-df-generate:hover {\n",
              "        background-color: #E2EBFA;\n",
              "        box-shadow: 0px 1px 2px rgba(60, 64, 67, 0.3), 0px 1px 3px 1px rgba(60, 64, 67, 0.15);\n",
              "        fill: #174EA6;\n",
              "      }\n",
              "\n",
              "      [theme=dark] .colab-df-generate {\n",
              "        background-color: #3B4455;\n",
              "        fill: #D2E3FC;\n",
              "      }\n",
              "\n",
              "      [theme=dark] .colab-df-generate:hover {\n",
              "        background-color: #434B5C;\n",
              "        box-shadow: 0px 1px 3px 1px rgba(0, 0, 0, 0.15);\n",
              "        filter: drop-shadow(0px 1px 2px rgba(0, 0, 0, 0.3));\n",
              "        fill: #FFFFFF;\n",
              "      }\n",
              "    </style>\n",
              "    <button class=\"colab-df-generate\" onclick=\"generateWithVariable('df')\"\n",
              "            title=\"Generate code using this dataframe.\"\n",
              "            style=\"display:none;\">\n",
              "\n",
              "  <svg xmlns=\"http://www.w3.org/2000/svg\" height=\"24px\"viewBox=\"0 0 24 24\"\n",
              "       width=\"24px\">\n",
              "    <path d=\"M7,19H8.4L18.45,9,17,7.55,7,17.6ZM5,21V16.75L18.45,3.32a2,2,0,0,1,2.83,0l1.4,1.43a1.91,1.91,0,0,1,.58,1.4,1.91,1.91,0,0,1-.58,1.4L9.25,21ZM18.45,9,17,7.55Zm-12,3A5.31,5.31,0,0,0,4.9,8.1,5.31,5.31,0,0,0,1,6.5,5.31,5.31,0,0,0,4.9,4.9,5.31,5.31,0,0,0,6.5,1,5.31,5.31,0,0,0,8.1,4.9,5.31,5.31,0,0,0,12,6.5,5.46,5.46,0,0,0,6.5,12Z\"/>\n",
              "  </svg>\n",
              "    </button>\n",
              "    <script>\n",
              "      (() => {\n",
              "      const buttonEl =\n",
              "        document.querySelector('#id_16811e54-733c-4432-83ba-6b5db7455c42 button.colab-df-generate');\n",
              "      buttonEl.style.display =\n",
              "        google.colab.kernel.accessAllowed ? 'block' : 'none';\n",
              "\n",
              "      buttonEl.onclick = () => {\n",
              "        google.colab.notebook.generateWithVariable('df');\n",
              "      }\n",
              "      })();\n",
              "    </script>\n",
              "  </div>\n",
              "\n",
              "    </div>\n",
              "  </div>\n"
            ],
            "application/vnd.google.colaboratory.intrinsic+json": {
              "type": "dataframe",
              "variable_name": "df",
              "summary": "{\n  \"name\": \"df\",\n  \"rows\": 3,\n  \"fields\": [\n    {\n      \"column\": \"A\",\n      \"properties\": {\n        \"dtype\": \"number\",\n        \"std\": 1,\n        \"min\": 1,\n        \"max\": 3,\n        \"num_unique_values\": 3,\n        \"samples\": [\n          1,\n          2,\n          3\n        ],\n        \"semantic_type\": \"\",\n        \"description\": \"\"\n      }\n    },\n    {\n      \"column\": \"B\",\n      \"properties\": {\n        \"dtype\": \"number\",\n        \"std\": 1,\n        \"min\": 4,\n        \"max\": 6,\n        \"num_unique_values\": 3,\n        \"samples\": [\n          4,\n          5,\n          6\n        ],\n        \"semantic_type\": \"\",\n        \"description\": \"\"\n      }\n    },\n    {\n      \"column\": \"C\",\n      \"properties\": {\n        \"dtype\": \"number\",\n        \"std\": 2,\n        \"min\": 5,\n        \"max\": 9,\n        \"num_unique_values\": 3,\n        \"samples\": [\n          5,\n          7,\n          9\n        ],\n        \"semantic_type\": \"\",\n        \"description\": \"\"\n      }\n    }\n  ]\n}"
            }
          },
          "metadata": {},
          "execution_count": 34
        }
      ]
    },
    {
      "cell_type": "markdown",
      "source": [
        "Q.7) Write a program to perform element-wise multiplication of two NumPy arrays.\n"
      ],
      "metadata": {
        "id": "WBmjVvKHL937"
      }
    },
    {
      "cell_type": "code",
      "source": [
        "# Ans\n",
        "\n",
        "A=np.random.randint(10,size=5) # genrate an array of  5 (size) random integer between 0 to 9\n",
        "B= np.random.randint(50,size=5)\n",
        "\n",
        "# element- wise multiplication of two NumYy arrays\n",
        "prd= A*B\n",
        "\n",
        "print(prd)"
      ],
      "metadata": {
        "colab": {
          "base_uri": "https://localhost:8080/"
        },
        "id": "tQqRd3F0erYu",
        "outputId": "dcd7e70a-82ea-403e-ce7a-d1d92ce63219"
      },
      "execution_count": 42,
      "outputs": [
        {
          "output_type": "stream",
          "name": "stdout",
          "text": [
            "[392  98  26   7   0]\n"
          ]
        }
      ]
    },
    {
      "cell_type": "markdown",
      "source": [
        "Q.8) Create a line plot with multiple lines using Matplotlib."
      ],
      "metadata": {
        "id": "Nddch445hd1Q"
      }
    },
    {
      "cell_type": "code",
      "source": [
        "#Ans\n",
        "\n",
        "x=[1,2,3,4]\n",
        "y=[3,7,1,6]\n",
        "z=[8,5,3,8]\n",
        "a=[2,9,4,8]\n",
        "\n",
        "plt.xlabel('x-axis')\n",
        "plt.ylabel('y-axis')\n",
        "plt.title('multiple_line_chart')\n",
        "\n",
        "plt.plot(x,y,label='line1')\n",
        "plt.plot(x,z,label='line2')\n",
        "plt.plot(x,a,label='line3')\n",
        "\n",
        "plt.legend() # to show label\n",
        "plt.show()"
      ],
      "metadata": {
        "colab": {
          "base_uri": "https://localhost:8080/",
          "height": 472
        },
        "id": "oZ1lZuWphcl2",
        "outputId": "6ce3fb83-abf3-4096-964b-a1d691215768"
      },
      "execution_count": 48,
      "outputs": [
        {
          "output_type": "display_data",
          "data": {
            "text/plain": [
              "<Figure size 640x480 with 1 Axes>"
            ],
            "image/png": "[encoded data removed]"
          },
          "metadata": {}
        }
      ]
    },
    {
      "cell_type": "markdown",
      "source": [
        "Q.9) Generate a Pandas DataFrame and filter rows where a column value is greater than a threshold."
      ],
      "metadata": {
        "id": "HVfgb0QHL914"
      }
    },
    {
      "cell_type": "code",
      "source": [
        "# Ans\n",
        "\n",
        "df=pd.DataFrame({'Name':['nar','sih','sol','thu','kun'],\n",
        "                'Age':[12,19,11,24,26]})\n",
        "\n",
        "threshold= 18\n",
        "\n",
        "# Filter rows where Age > threshold\n",
        "\n",
        "adult=df[df['Age']>threshold]\n",
        "\n",
        "print(adult)"
      ],
      "metadata": {
        "colab": {
          "base_uri": "https://localhost:8080/"
        },
        "id": "wJcWnVXvlUix",
        "outputId": "deacb41f-91b7-408a-b374-76c845ab6972"
      },
      "execution_count": 51,
      "outputs": [
        {
          "output_type": "stream",
          "name": "stdout",
          "text": [
            "  Name  Age\n",
            "1  sih   19\n",
            "3  thu   24\n",
            "4  kun   26\n"
          ]
        }
      ]
    },
    {
      "cell_type": "markdown",
      "source": [
        "Q.10) Create a histogram using Seaborn to visualize a distribution."
      ],
      "metadata": {
        "id": "okmtaRP5L9fx"
      }
    },
    {
      "cell_type": "code",
      "source": [
        "# Ans\n",
        "\n",
        "# generating standard normal distribution of 100 values\n",
        "data=np.random.randn(100)\n",
        "\n",
        "sns.histplot(data)\n",
        "\n",
        "plt.title('Histogram of Randomly Generated Data')\n",
        "plt.xlabel('Values')\n",
        "plt.ylabel('Frequency')\n",
        "plt.show()"
      ],
      "metadata": {
        "colab": {
          "base_uri": "https://localhost:8080/",
          "height": 472
        },
        "id": "7XFb6eCMml22",
        "outputId": "c7c9c87c-0cf6-4198-81dd-d62b98f22205"
      },
      "execution_count": 57,
      "outputs": [
        {
          "output_type": "display_data",
          "data": {
            "text/plain": [
              "<Figure size 640x480 with 1 Axes>"
            ],
            "image/png": "[encoded data removed]"
          },
          "metadata": {}
        }
      ]
    },
    {
      "cell_type": "markdown",
      "source": [
        "Q.11) Perform matrix multiplication using NumPy."
      ],
      "metadata": {
        "id": "kCfgQf-pr86m"
      }
    },
    {
      "cell_type": "code",
      "source": [
        "#Ans-\n",
        "\n",
        "# defining 2 matices\n",
        "x=np.array([[1,2],[3,4]])\n",
        "\n",
        "y=np.array([[5,6],[7,8]])\n",
        "\n",
        "\n",
        "# Matrix multiplication\n",
        "mat_multiplication=np.matmul(x,y)\n",
        "\n",
        "print(mat_multiplication)\n"
      ],
      "metadata": {
        "colab": {
          "base_uri": "https://localhost:8080/"
        },
        "id": "rHIZmQEer0y1",
        "outputId": "2590611b-42b3-47f7-99e3-b76c8511d25a"
      },
      "execution_count": 61,
      "outputs": [
        {
          "output_type": "stream",
          "name": "stdout",
          "text": [
            "[[19 22]\n",
            " [43 50]]\n"
          ]
        }
      ]
    },
    {
      "cell_type": "markdown",
      "source": [
        "Q.12) Use Pandas to load a CSV file and display its first 5 rows."
      ],
      "metadata": {
        "id": "29dWzfPttlwj"
      }
    },
    {
      "cell_type": "code",
      "source": [
        "\n",
        "# load csv file\n",
        "\n",
        "data=pd.read_csv('file_name.csv')\n",
        "\n",
        "\n",
        "# display top 5 rows\n",
        "print(data.head(5))"
      ],
      "metadata": {
        "id": "bWh3L8SXr6Nu"
      },
      "execution_count": null,
      "outputs": []
    },
    {
      "cell_type": "code",
      "source": [
        "Q.13) Create a 3D scatter plot using Plotly."
      ],
      "metadata": {
        "id": "IfViVA9AujrS"
      },
      "execution_count": null,
      "outputs": []
    },
    {
      "cell_type": "code",
      "source": [
        "\n",
        "x = [1, 2, 3, 4, 5]\n",
        "y = [60, 70, 80, 95, 10]\n",
        "z = [110, 1222, 132, 140, 105]\n",
        "\n",
        "# Create a DataFrame for Plotly\n",
        "\n",
        "df = pd.DataFrame({'x': x, 'y': y, 'z': z})\n",
        "\n",
        "# Generate 3D scatter plot\n",
        "fig = px.scatter_3d(df, x='x', y='y', z='z')\n",
        "\n",
        "# Show the figure\n",
        "fig.show()"
      ],
      "metadata": {
        "colab": {
          "base_uri": "https://localhost:8080/",
          "height": 542
        },
        "id": "LrjAHJlQuoqB",
        "outputId": "fc2f054c-5b9c-4390-d5ba-5014dcee2d09"
      },
      "execution_count": 72,
      "outputs": [
        {
          "output_type": "display_data",
          "data": {
            "text/html": [
              "<html>\n",
              "<head><meta charset=\"utf-8\" /></head>\n",
              "<body>\n",
              "    <div>            <script src=\"https://cdnjs.cloudflare.com/ajax/libs/mathjax/2.7.5/MathJax.js?config=TeX-AMS-MML_SVG\"></script><script type=\"text/javascript\">if (window.MathJax && window.MathJax.Hub && window.MathJax.Hub.Config) {window.MathJax.Hub.Config({SVG: {font: \"STIX-Web\"}});}</script>                <script type=\"text/javascript\">window.PlotlyConfig = {MathJaxConfig: 'local'};</script>\n",
              "        <script charset=\"utf-8\" src=\"https://cdn.plot.ly/plotly-2.35.2.min.js\"></script>                <div id=\"5b2e4a28-7d14-4fa2-ac95-6320de40c165\" class=\"plotly-graph-div\" style=\"height:525px; width:100%;\"></div>            <script type=\"text/javascript\">                                    window.PLOTLYENV=window.PLOTLYENV || {};                                    if (document.getElementById(\"5b2e4a28-7d14-4fa2-ac95-6320de40c165\")) {                    Plotly.newPlot(                        \"5b2e4a28-7d14-4fa2-ac95-6320de40c165\",                        [{\"hovertemplate\":\"x=%{x}\\u003cbr\\u003ey=%{y}\\u003cbr\\u003ez=%{z}\\u003cextra\\u003e\\u003c\\u002fextra\\u003e\",\"legendgroup\":\"\",\"marker\":{\"color\":\"#636efa\",\"symbol\":\"circle\"},\"mode\":\"markers\",\"name\":\"\",\"scene\":\"scene\",\"showlegend\":false,\"x\":[1,2,3,4,5],\"y\":[60,70,80,95,10],\"z\":[110,1222,132,140,105],\"type\":\"scatter3d\"}],                        {\"template\":{\"data\":{\"histogram2dcontour\":[{\"type\":\"histogram2dcontour\",\"colorbar\":{\"outlinewidth\":0,\"ticks\":\"\"},\"colorscale\":[[0.0,\"#0d0887\"],[0.1111111111111111,\"#46039f\"],[0.2222222222222222,\"#7201a8\"],[0.3333333333333333,\"#9c179e\"],[0.4444444444444444,\"#bd3786\"],[0.5555555555555556,\"#d8576b\"],[0.6666666666666666,\"#ed7953\"],[0.7777777777777778,\"#fb9f3a\"],[0.8888888888888888,\"#fdca26\"],[1.0,\"#f0f921\"]]}],\"choropleth\":[{\"type\":\"choropleth\",\"colorbar\":{\"outlinewidth\":0,\"ticks\":\"\"}}],\"histogram2d\":[{\"type\":\"histogram2d\",\"colorbar\":{\"outlinewidth\":0,\"ticks\":\"\"},\"colorscale\":[[0.0,\"#0d0887\"],[0.1111111111111111,\"#46039f\"],[0.2222222222222222,\"#7201a8\"],[0.3333333333333333,\"#9c179e\"],[0.4444444444444444,\"#bd3786\"],[0.5555555555555556,\"#d8576b\"],[0.6666666666666666,\"#ed7953\"],[0.7777777777777778,\"#fb9f3a\"],[0.8888888888888888,\"#fdca26\"],[1.0,\"#f0f921\"]]}],\"heatmap\":[{\"type\":\"heatmap\",\"colorbar\":{\"outlinewidth\":0,\"ticks\":\"\"},\"colorscale\":[[0.0,\"#0d0887\"],[0.1111111111111111,\"#46039f\"],[0.2222222222222222,\"#7201a8\"],[0.3333333333333333,\"#9c179e\"],[0.4444444444444444,\"#bd3786\"],[0.5555555555555556,\"#d8576b\"],[0.6666666666666666,\"#ed7953\"],[0.7777777777777778,\"#fb9f3a\"],[0.8888888888888888,\"#fdca26\"],[1.0,\"#f0f921\"]]}],\"heatmapgl\":[{\"type\":\"heatmapgl\",\"colorbar\":{\"outlinewidth\":0,\"ticks\":\"\"},\"colorscale\":[[0.0,\"#0d0887\"],[0.1111111111111111,\"#46039f\"],[0.2222222222222222,\"#7201a8\"],[0.3333333333333333,\"#9c179e\"],[0.4444444444444444,\"#bd3786\"],[0.5555555555555556,\"#d8576b\"],[0.6666666666666666,\"#ed7953\"],[0.7777777777777778,\"#fb9f3a\"],[0.8888888888888888,\"#fdca26\"],[1.0,\"#f0f921\"]]}],\"contourcarpet\":[{\"type\":\"contourcarpet\",\"colorbar\":{\"outlinewidth\":0,\"ticks\":\"\"}}],\"contour\":[{\"type\":\"contour\",\"colorbar\":{\"outlinewidth\":0,\"ticks\":\"\"},\"colorscale\":[[0.0,\"#0d0887\"],[0.1111111111111111,\"#46039f\"],[0.2222222222222222,\"#7201a8\"],[0.3333333333333333,\"#9c179e\"],[0.4444444444444444,\"#bd3786\"],[0.5555555555555556,\"#d8576b\"],[0.6666666666666666,\"#ed7953\"],[0.7777777777777778,\"#fb9f3a\"],[0.8888888888888888,\"#fdca26\"],[1.0,\"#f0f921\"]]}],\"surface\":[{\"type\":\"surface\",\"colorbar\":{\"outlinewidth\":0,\"ticks\":\"\"},\"colorscale\":[[0.0,\"#0d0887\"],[0.1111111111111111,\"#46039f\"],[0.2222222222222222,\"#7201a8\"],[0.3333333333333333,\"#9c179e\"],[0.4444444444444444,\"#bd3786\"],[0.5555555555555556,\"#d8576b\"],[0.6666666666666666,\"#ed7953\"],[0.7777777777777778,\"#fb9f3a\"],[0.8888888888888888,\"#fdca26\"],[1.0,\"#f0f921\"]]}],\"mesh3d\":[{\"type\":\"mesh3d\",\"colorbar\":{\"outlinewidth\":0,\"ticks\":\"\"}}],\"scatter\":[{\"fillpattern\":{\"fillmode\":\"overlay\",\"size\":10,\"solidity\":0.2},\"type\":\"scatter\"}],\"parcoords\":[{\"type\":\"parcoords\",\"line\":{\"colorbar\":{\"outlinewidth\":0,\"ticks\":\"\"}}}],\"scatterpolargl\":[{\"type\":\"scatterpolargl\",\"marker\":{\"colorbar\":{\"outlinewidth\":0,\"ticks\":\"\"}}}],\"bar\":[{\"error_x\":{\"color\":\"#2a3f5f\"},\"error_y\":{\"color\":\"#2a3f5f\"},\"marker\":{\"line\":{\"color\":\"#E5ECF6\",\"width\":0.5},\"pattern\":{\"fillmode\":\"overlay\",\"size\":10,\"solidity\":0.2}},\"type\":\"bar\"}],\"scattergeo\":[{\"type\":\"scattergeo\",\"marker\":{\"colorbar\":{\"outlinewidth\":0,\"ticks\":\"\"}}}],\"scatterpolar\":[{\"type\":\"scatterpolar\",\"marker\":{\"colorbar\":{\"outlinewidth\":0,\"ticks\":\"\"}}}],\"histogram\":[{\"marker\":{\"pattern\":{\"fillmode\":\"overlay\",\"size\":10,\"solidity\":0.2}},\"type\":\"histogram\"}],\"scattergl\":[{\"type\":\"scattergl\",\"marker\":{\"colorbar\":{\"outlinewidth\":0,\"ticks\":\"\"}}}],\"scatter3d\":[{\"type\":\"scatter3d\",\"line\":{\"colorbar\":{\"outlinewidth\":0,\"ticks\":\"\"}},\"marker\":{\"colorbar\":{\"outlinewidth\":0,\"ticks\":\"\"}}}],\"scattermapbox\":[{\"type\":\"scattermapbox\",\"marker\":{\"colorbar\":{\"outlinewidth\":0,\"ticks\":\"\"}}}],\"scatterternary\":[{\"type\":\"scatterternary\",\"marker\":{\"colorbar\":{\"outlinewidth\":0,\"ticks\":\"\"}}}],\"scattercarpet\":[{\"type\":\"scattercarpet\",\"marker\":{\"colorbar\":{\"outlinewidth\":0,\"ticks\":\"\"}}}],\"carpet\":[{\"aaxis\":{\"endlinecolor\":\"#2a3f5f\",\"gridcolor\":\"white\",\"linecolor\":\"white\",\"minorgridcolor\":\"white\",\"startlinecolor\":\"#2a3f5f\"},\"baxis\":{\"endlinecolor\":\"#2a3f5f\",\"gridcolor\":\"white\",\"linecolor\":\"white\",\"minorgridcolor\":\"white\",\"startlinecolor\":\"#2a3f5f\"},\"type\":\"carpet\"}],\"table\":[{\"cells\":{\"fill\":{\"color\":\"#EBF0F8\"},\"line\":{\"color\":\"white\"}},\"header\":{\"fill\":{\"color\":\"#C8D4E3\"},\"line\":{\"color\":\"white\"}},\"type\":\"table\"}],\"barpolar\":[{\"marker\":{\"line\":{\"color\":\"#E5ECF6\",\"width\":0.5},\"pattern\":{\"fillmode\":\"overlay\",\"size\":10,\"solidity\":0.2}},\"type\":\"barpolar\"}],\"pie\":[{\"automargin\":true,\"type\":\"pie\"}]},\"layout\":{\"autotypenumbers\":\"strict\",\"colorway\":[\"#636efa\",\"#EF553B\",\"#00cc96\",\"#ab63fa\",\"#FFA15A\",\"#19d3f3\",\"#FF6692\",\"#B6E880\",\"#FF97FF\",\"#FECB52\"],\"font\":{\"color\":\"#2a3f5f\"},\"hovermode\":\"closest\",\"hoverlabel\":{\"align\":\"left\"},\"paper_bgcolor\":\"white\",\"plot_bgcolor\":\"#E5ECF6\",\"polar\":{\"bgcolor\":\"#E5ECF6\",\"angularaxis\":{\"gridcolor\":\"white\",\"linecolor\":\"white\",\"ticks\":\"\"},\"radialaxis\":{\"gridcolor\":\"white\",\"linecolor\":\"white\",\"ticks\":\"\"}},\"ternary\":{\"bgcolor\":\"#E5ECF6\",\"aaxis\":{\"gridcolor\":\"white\",\"linecolor\":\"white\",\"ticks\":\"\"},\"baxis\":{\"gridcolor\":\"white\",\"linecolor\":\"white\",\"ticks\":\"\"},\"caxis\":{\"gridcolor\":\"white\",\"linecolor\":\"white\",\"ticks\":\"\"}},\"coloraxis\":{\"colorbar\":{\"outlinewidth\":0,\"ticks\":\"\"}},\"colorscale\":{\"sequential\":[[0.0,\"#0d0887\"],[0.1111111111111111,\"#46039f\"],[0.2222222222222222,\"#7201a8\"],[0.3333333333333333,\"#9c179e\"],[0.4444444444444444,\"#bd3786\"],[0.5555555555555556,\"#d8576b\"],[0.6666666666666666,\"#ed7953\"],[0.7777777777777778,\"#fb9f3a\"],[0.8888888888888888,\"#fdca26\"],[1.0,\"#f0f921\"]],\"sequentialminus\":[[0.0,\"#0d0887\"],[0.1111111111111111,\"#46039f\"],[0.2222222222222222,\"#7201a8\"],[0.3333333333333333,\"#9c179e\"],[0.4444444444444444,\"#bd3786\"],[0.5555555555555556,\"#d8576b\"],[0.6666666666666666,\"#ed7953\"],[0.7777777777777778,\"#fb9f3a\"],[0.8888888888888888,\"#fdca26\"],[1.0,\"#f0f921\"]],\"diverging\":[[0,\"#8e0152\"],[0.1,\"#c51b7d\"],[0.2,\"#de77ae\"],[0.3,\"#f1b6da\"],[0.4,\"#fde0ef\"],[0.5,\"#f7f7f7\"],[0.6,\"#e6f5d0\"],[0.7,\"#b8e186\"],[0.8,\"#7fbc41\"],[0.9,\"#4d9221\"],[1,\"#276419\"]]},\"xaxis\":{\"gridcolor\":\"white\",\"linecolor\":\"white\",\"ticks\":\"\",\"title\":{\"standoff\":15},\"zerolinecolor\":\"white\",\"automargin\":true,\"zerolinewidth\":2},\"yaxis\":{\"gridcolor\":\"white\",\"linecolor\":\"white\",\"ticks\":\"\",\"title\":{\"standoff\":15},\"zerolinecolor\":\"white\",\"automargin\":true,\"zerolinewidth\":2},\"scene\":{\"xaxis\":{\"backgroundcolor\":\"#E5ECF6\",\"gridcolor\":\"white\",\"linecolor\":\"white\",\"showbackground\":true,\"ticks\":\"\",\"zerolinecolor\":\"white\",\"gridwidth\":2},\"yaxis\":{\"backgroundcolor\":\"#E5ECF6\",\"gridcolor\":\"white\",\"linecolor\":\"white\",\"showbackground\":true,\"ticks\":\"\",\"zerolinecolor\":\"white\",\"gridwidth\":2},\"zaxis\":{\"backgroundcolor\":\"#E5ECF6\",\"gridcolor\":\"white\",\"linecolor\":\"white\",\"showbackground\":true,\"ticks\":\"\",\"zerolinecolor\":\"white\",\"gridwidth\":2}},\"shapedefaults\":{\"line\":{\"color\":\"#2a3f5f\"}},\"annotationdefaults\":{\"arrowcolor\":\"#2a3f5f\",\"arrowhead\":0,\"arrowwidth\":1},\"geo\":{\"bgcolor\":\"white\",\"landcolor\":\"#E5ECF6\",\"subunitcolor\":\"white\",\"showland\":true,\"showlakes\":true,\"lakecolor\":\"white\"},\"title\":{\"x\":0.05},\"mapbox\":{\"style\":\"light\"}}},\"scene\":{\"domain\":{\"x\":[0.0,1.0],\"y\":[0.0,1.0]},\"xaxis\":{\"title\":{\"text\":\"x\"}},\"yaxis\":{\"title\":{\"text\":\"y\"}},\"zaxis\":{\"title\":{\"text\":\"z\"}}},\"legend\":{\"tracegroupgap\":0},\"margin\":{\"t\":60}},                        {\"responsive\": true}                    ).then(function(){\n",
              "                            \n",
              "var gd = document.getElementById('5b2e4a28-7d14-4fa2-ac95-6320de40c165');\n",
              "var x = new MutationObserver(function (mutations, observer) {{\n",
              "        var display = window.getComputedStyle(gd).display;\n",
              "        if (!display || display === 'none') {{\n",
              "            console.log([gd, 'removed!']);\n",
              "            Plotly.purge(gd);\n",
              "            observer.disconnect();\n",
              "        }}\n",
              "}});\n",
              "\n",
              "// Listen for the removal of the full notebook cells\n",
              "var notebookContainer = gd.closest('#notebook-container');\n",
              "if (notebookContainer) {{\n",
              "    x.observe(notebookContainer, {childList: true});\n",
              "}}\n",
              "\n",
              "// Listen for the clearing of the current output cell\n",
              "var outputEl = gd.closest('.output');\n",
              "if (outputEl) {{\n",
              "    x.observe(outputEl, {childList: true});\n",
              "}}\n",
              "\n",
              "                        })                };                            </script>        </div>\n",
              "</body>\n",
              "</html>"
            ]
          },
          "metadata": {}
        }
      ]
    },
    {
      "cell_type": "code",
      "source": [],
      "metadata": {
        "id": "QRLfWizVrwWf"
      },
      "execution_count": null,
      "outputs": []
    }
  ]
}